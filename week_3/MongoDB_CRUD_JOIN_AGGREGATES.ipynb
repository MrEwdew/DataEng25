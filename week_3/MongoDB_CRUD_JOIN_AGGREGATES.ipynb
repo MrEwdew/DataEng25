{
 "cells": [
  {
   "cell_type": "markdown",
   "metadata": {},
   "source": [
    "# 📕 MongoDB with Python: Full Tutorial in Jupyter Notebook\n",
    "This notebook demonstrates how to:\n",
    "- Connect to MongoDB\n",
    "- Create collections and insert synthetic data\n",
    "- Perform CRUD operations\n",
    "- Use `$lookup` for JOIN-like behavior\n",
    "- Use `$group` for aggregation (COUNT, SUM, AVG, MAX, MIN)\n"
   ]
  },
  {
   "cell_type": "code",
   "execution_count": 1,
   "metadata": {},
   "outputs": [
    {
     "name": "stdout",
     "output_type": "stream",
     "text": [
      "Collecting pymongo\n",
      "  Downloading pymongo-4.12.0-cp311-cp311-macosx_11_0_arm64.whl.metadata (22 kB)\n",
      "Collecting dnspython<3.0.0,>=1.16.0 (from pymongo)\n",
      "  Downloading dnspython-2.7.0-py3-none-any.whl.metadata (5.8 kB)\n",
      "Downloading pymongo-4.12.0-cp311-cp311-macosx_11_0_arm64.whl (855 kB)\n",
      "\u001b[2K   \u001b[90m━━━━━━━━━━━━━━━━━━━━━━━━━━━━━━━━━━━━━━━━\u001b[0m \u001b[32m855.2/855.2 kB\u001b[0m \u001b[31m1.2 MB/s\u001b[0m eta \u001b[36m0:00:00\u001b[0ma \u001b[36m0:00:01\u001b[0m\n",
      "\u001b[?25hDownloading dnspython-2.7.0-py3-none-any.whl (313 kB)\n",
      "Installing collected packages: dnspython, pymongo\n",
      "Successfully installed dnspython-2.7.0 pymongo-4.12.0\n"
     ]
    }
   ],
   "source": [
    "# ✅ Install PyMongo\n",
    "!pip install pymongo"
   ]
  },
  {
   "cell_type": "code",
   "execution_count": 15,
   "metadata": {},
   "outputs": [
    {
     "name": "stdout",
     "output_type": "stream",
     "text": [
      "['admin', 'config', 'local']\n"
     ]
    }
   ],
   "source": [
    "import pymongo\n",
    "client = pymongo.MongoClient(\"mongodb://localhost:27017/\")\n",
    "print(client.list_database_names())"
   ]
  },
  {
   "cell_type": "code",
   "execution_count": 16,
   "metadata": {},
   "outputs": [
    {
     "name": "stdout",
     "output_type": "stream",
     "text": [
      "Customers Data: [{'_id': 1, 'name': 'Alice'}, {'_id': 2, 'name': 'Bob'}, {'_id': 3, 'name': 'Charlie'}, {'_id': 4, 'name': 'David'}]\n",
      "Orders Data: [{'_id': 101, 'customer_id': 1, 'amount': 250.0}, {'_id': 102, 'customer_id': 1, 'amount': 150.5}, {'_id': 103, 'customer_id': 2, 'amount': 450.75}, {'_id': 104, 'customer_id': 3, 'amount': 300.0}, {'_id': 105, 'customer_id': 2, 'amount': 120.25}]\n"
     ]
    }
   ],
   "source": [
    "from pymongo import MongoClient\n",
    "\n",
    "# Connect to MongoDB (Make sure MongoDB is running locally or adjust host if needed)\n",
    "client = MongoClient('mongodb://localhost:27017/')\n",
    "\n",
    "# Create the database and collections\n",
    "db = client['ShopDB']  # Create a database named 'ShopDB'\n",
    "customers = db['customers']  # Create 'customers' collection\n",
    "orders = db['orders']  # Create 'orders' collection\n",
    "\n",
    "# 🧹 Clean up any existing data\n",
    "customers.delete_many({})\n",
    "orders.delete_many({})\n",
    "\n",
    "# 🧪 Insert synthetic data into 'customers' collection\n",
    "customers.insert_many([\n",
    "    {\"_id\": 1, \"name\": \"Alice\"},\n",
    "    {\"_id\": 2, \"name\": \"Bob\"},\n",
    "    {\"_id\": 3, \"name\": \"Charlie\"},\n",
    "    {\"_id\": 4, \"name\": \"David\"}\n",
    "])\n",
    "\n",
    "# 🧪 Insert synthetic data into 'orders' collection\n",
    "orders.insert_many([\n",
    "    {\"_id\": 101, \"customer_id\": 1, \"amount\": 250.00},\n",
    "    {\"_id\": 102, \"customer_id\": 1, \"amount\": 150.50},\n",
    "    {\"_id\": 103, \"customer_id\": 2, \"amount\": 450.75},\n",
    "    {\"_id\": 104, \"customer_id\": 3, \"amount\": 300.00},\n",
    "    {\"_id\": 105, \"customer_id\": 2, \"amount\": 120.25}\n",
    "])\n",
    "\n",
    "# Check if data is inserted\n",
    "print(\"Customers Data:\", list(customers.find()))\n",
    "print(\"Orders Data:\", list(orders.find()))"
   ]
  },
  {
   "cell_type": "code",
   "execution_count": 17,
   "metadata": {},
   "outputs": [],
   "source": [
    "from pymongo import MongoClient\n",
    "\n",
    "# Connect to MongoDB (adjust host if needed)\n",
    "client = MongoClient('mongodb://localhost:27017/')\n",
    "db = client['ShopDB']\n",
    "customers = db['customers']\n",
    "orders = db['orders']"
   ]
  },
  {
   "cell_type": "code",
   "execution_count": 18,
   "metadata": {},
   "outputs": [
    {
     "name": "stdout",
     "output_type": "stream",
     "text": [
      "{'_id': 4, 'name': 'David'}\n",
      "{'_id': 4, 'name': 'David Updated'}\n",
      "None\n"
     ]
    }
   ],
   "source": [
    "from pymongo import MongoClient\n",
    "\n",
    "# Connect to MongoDB (adjust host if needed)\n",
    "client = MongoClient('mongodb://localhost:27017/')\n",
    "db = client['ShopDB']\n",
    "customers = db['customers']\n",
    "orders = db['orders']\n",
    "\n",
    "# 🧹 Clean up any existing data\n",
    "customers.delete_many({})\n",
    "orders.delete_many({})\n",
    "\n",
    "# 🧪 Insert Synthetic Data\n",
    "customers.insert_many([\n",
    "    {\"_id\": 1, \"name\": \"Alice\"},\n",
    "    {\"_id\": 2, \"name\": \"Bob\"},\n",
    "    {\"_id\": 3, \"name\": \"Charlie\"}\n",
    "])\n",
    "\n",
    "orders.insert_many([\n",
    "    {\"_id\": 101, \"customer_id\": 1, \"amount\": 250.00},\n",
    "    {\"_id\": 102, \"customer_id\": 1, \"amount\": 150.50},\n",
    "    {\"_id\": 103, \"customer_id\": 2, \"amount\": 450.75},\n",
    "    {\"_id\": 104, \"customer_id\": 3, \"amount\": 300.00},\n",
    "    {\"_id\": 105, \"customer_id\": 2, \"amount\": 120.25}\n",
    "])\n",
    "\n",
    "# 🧑‍💻 CRUD Operations in MongoDB\n",
    "# Create: Insert Data\n",
    "customers.insert_one({\"_id\": 4, \"name\": \"David\"})\n",
    "orders.insert_one({\"_id\": 106, \"customer_id\": 4, \"amount\": 200.50})\n",
    "\n",
    "# Read: Find a customer\n",
    "customer = customers.find_one({\"_id\": 4})\n",
    "print(customer)\n",
    "\n",
    "# Update: Change a customer's name\n",
    "customers.update_one({\"_id\": 4}, {\"$set\": {\"name\": \"David Updated\"}})\n",
    "updated_customer = customers.find_one({\"_id\": 4})\n",
    "print(updated_customer)\n",
    "\n",
    "# Delete: Remove a customer and their orders\n",
    "orders.delete_many({\"customer_id\": 4})\n",
    "customers.delete_one({\"_id\": 4})\n",
    "deleted_customer = customers.find_one({\"_id\": 4})\n",
    "print(deleted_customer)  # Should return None"
   ]
  },
  {
   "cell_type": "code",
   "execution_count": 19,
   "metadata": {},
   "outputs": [
    {
     "name": "stdout",
     "output_type": "stream",
     "text": [
      "{'amount': 250.0, 'customer': 'Alice'}\n",
      "{'amount': 150.5, 'customer': 'Alice'}\n",
      "{'amount': 450.75, 'customer': 'Bob'}\n",
      "{'amount': 300.0, 'customer': 'Charlie'}\n",
      "{'amount': 120.25, 'customer': 'Bob'}\n"
     ]
    }
   ],
   "source": [
    "# 🔍 $lookup (JOIN-like behavior)\n",
    "pipeline = [\n",
    "    {\"$lookup\": {\n",
    "        \"from\": \"customers\",\n",
    "        \"localField\": \"customer_id\",\n",
    "        \"foreignField\": \"_id\",\n",
    "        \"as\": \"customer_info\"\n",
    "    }},\n",
    "    {\"$unwind\": \"$customer_info\"},\n",
    "    {\"$project\": {\n",
    "        \"_id\": 0,\n",
    "        \"customer\": \"$customer_info.name\",\n",
    "        \"amount\": 1\n",
    "    }}\n",
    "]\n",
    "results = orders.aggregate(pipeline)\n",
    "for row in results:\n",
    "    print(row)"
   ]
  },
  {
   "cell_type": "code",
   "execution_count": 20,
   "metadata": {},
   "outputs": [
    {
     "name": "stdout",
     "output_type": "stream",
     "text": [
      "{'_id': 1, 'order_count': 2, 'total_amount': 400.5, 'avg_amount': 200.25, 'max_amount': 250.0, 'min_amount': 150.5}\n",
      "{'_id': 2, 'order_count': 2, 'total_amount': 571.0, 'avg_amount': 285.5, 'max_amount': 450.75, 'min_amount': 120.25}\n",
      "{'_id': 3, 'order_count': 1, 'total_amount': 300.0, 'avg_amount': 300.0, 'max_amount': 300.0, 'min_amount': 300.0}\n"
     ]
    }
   ],
   "source": [
    "# 📊 Group by customer_id with aggregate functions\n",
    "pipeline = [\n",
    "    {\n",
    "        \"$group\": {\n",
    "            \"_id\": \"$customer_id\",\n",
    "            \"order_count\": {\"$sum\": 1},\n",
    "            \"total_amount\": {\"$sum\": \"$amount\"},\n",
    "            \"avg_amount\": {\"$avg\": \"$amount\"},\n",
    "            \"max_amount\": {\"$max\": \"$amount\"},\n",
    "            \"min_amount\": {\"$min\": \"$amount\"}\n",
    "        }\n",
    "    }\n",
    "]\n",
    "results = orders.aggregate(pipeline)\n",
    "for row in results:\n",
    "    print(row)"
   ]
  },
  {
   "cell_type": "code",
   "execution_count": null,
   "metadata": {},
   "outputs": [],
   "source": []
  },
  {
   "cell_type": "code",
   "execution_count": null,
   "metadata": {},
   "outputs": [],
   "source": []
  }
 ],
 "metadata": {
  "kernelspec": {
   "display_name": "Python 3 (ipykernel)",
   "language": "python",
   "name": "python3"
  },
  "language_info": {
   "codemirror_mode": {
    "name": "ipython",
    "version": 3
   },
   "file_extension": ".py",
   "mimetype": "text/x-python",
   "name": "python",
   "nbconvert_exporter": "python",
   "pygments_lexer": "ipython3",
   "version": "3.11.0"
  }
 },
 "nbformat": 4,
 "nbformat_minor": 4
}
