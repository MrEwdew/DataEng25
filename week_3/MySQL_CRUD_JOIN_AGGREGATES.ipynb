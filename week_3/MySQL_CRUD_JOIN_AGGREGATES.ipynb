{
 "cells": [
  {
   "cell_type": "markdown",
   "metadata": {},
   "source": [
    "# 📘 MySQL with Python: Full Tutorial in Jupyter Notebook\n",
    "This notebook demonstrates how to:\n",
    "- Create a MySQL database and tables\n",
    "- Insert synthetic data\n",
    "- Perform CRUD operations\n",
    "- Use INNER JOIN\n",
    "- Use GROUP BY\n",
    "- Apply aggregate functions like COUNT(), SUM(), AVG(), MAX(), MIN()\n"
   ]
  },
  {
   "cell_type": "code",
   "execution_count": 11,
   "metadata": {},
   "outputs": [
    {
     "name": "stdout",
     "output_type": "stream",
     "text": [
      "Requirement already satisfied: mysql-connector-python in /Users/suchetaghosh/miniconda3/lib/python3.11/site-packages (9.2.0)\n",
      "Requirement already satisfied: pymysql in /Users/suchetaghosh/miniconda3/lib/python3.11/site-packages (1.1.1)\n",
      "Collecting sql\n",
      "  Downloading sql-2022.4.0.tar.gz (4.2 kB)\n",
      "  Preparing metadata (setup.py) ... \u001b[?25ldone\n",
      "\u001b[?25hBuilding wheels for collected packages: sql\n",
      "  Building wheel for sql (setup.py) ... \u001b[?25ldone\n",
      "\u001b[?25h  Created wheel for sql: filename=sql-2022.4.0-py3-none-any.whl size=4306 sha256=bd742621ee45daa9ab7818af74db886708a32cdb56477163ba03d8552e89a594\n",
      "  Stored in directory: /Users/suchetaghosh/Library/Caches/pip/wheels/a6/f1/62/be6faba20c8384c5766c0332c93841b610ab2602d6ae312bbf\n",
      "Successfully built sql\n",
      "Installing collected packages: sql\n",
      "Successfully installed sql-2022.4.0\n"
     ]
    }
   ],
   "source": [
    "# ✅ Install mysql-connector-python if not already installed\n",
    "!pip install mysql-connector-python\n",
    "!pip install pymysql\n",
    "!pip install sql"
   ]
  },
  {
   "cell_type": "code",
   "execution_count": 13,
   "metadata": {},
   "outputs": [],
   "source": [
    "import mysql.connector\n",
    "from mysql.connector import Error\n",
    "\n",
    "# Connect to MySQL server (adjust credentials as needed)\n",
    "conn = mysql.connector.connect(\n",
    "    host='localhost',\n",
    "    user='root',\n",
    "    #password='yourpassword'  # 🔁 Replace with your MySQL password\n",
    ")\n",
    "cursor = conn.cursor()"
   ]
  },
  {
   "cell_type": "code",
   "execution_count": 20,
   "metadata": {},
   "outputs": [],
   "source": [
    "# 📦 Create Database\n",
    "cursor.execute(\"CREATE DATABASE IF NOT EXISTS ShopDB\")\n",
    "cursor.execute(\"USE ShopDB\")"
   ]
  },
  {
   "cell_type": "code",
   "execution_count": 22,
   "metadata": {},
   "outputs": [
    {
     "ename": "InternalError",
     "evalue": "Unread result found",
     "output_type": "error",
     "traceback": [
      "\u001b[0;31m---------------------------------------------------------------------------\u001b[0m",
      "\u001b[0;31mInternalError\u001b[0m                             Traceback (most recent call last)",
      "Cell \u001b[0;32mIn[22], line 2\u001b[0m\n\u001b[1;32m      1\u001b[0m \u001b[38;5;66;03m# 🧱 Create Tables\u001b[39;00m\n\u001b[0;32m----> 2\u001b[0m cursor\u001b[38;5;241m.\u001b[39mexecute(\u001b[38;5;124m\"\"\"\u001b[39m\n\u001b[1;32m      3\u001b[0m \u001b[38;5;124mCREATE TABLE IF NOT EXISTS Customers (\u001b[39m\n\u001b[1;32m      4\u001b[0m \u001b[38;5;124m    CustomerID INT PRIMARY KEY,\u001b[39m\n\u001b[1;32m      5\u001b[0m \u001b[38;5;124m    Name VARCHAR(50)\u001b[39m\n\u001b[1;32m      6\u001b[0m \u001b[38;5;124m);\u001b[39m\n\u001b[1;32m      7\u001b[0m \n\u001b[1;32m      8\u001b[0m \u001b[38;5;124mCREATE TABLE IF NOT EXISTS Orders (\u001b[39m\n\u001b[1;32m      9\u001b[0m \u001b[38;5;124m    OrderID INT PRIMARY KEY,\u001b[39m\n\u001b[1;32m     10\u001b[0m \u001b[38;5;124m    CustomerID INT,\u001b[39m\n\u001b[1;32m     11\u001b[0m \u001b[38;5;124m    Amount DECIMAL(10,2),\u001b[39m\n\u001b[1;32m     12\u001b[0m \u001b[38;5;124m    FOREIGN KEY (CustomerID) REFERENCES Customers(CustomerID)\u001b[39m\n\u001b[1;32m     13\u001b[0m \u001b[38;5;124m);\u001b[39m\n\u001b[1;32m     14\u001b[0m \u001b[38;5;124m\"\"\"\u001b[39m)\n",
      "File \u001b[0;32m~/miniconda3/lib/python3.11/site-packages/mysql/connector/cursor.py:375\u001b[0m, in \u001b[0;36mMySQLCursor.execute\u001b[0;34m(self, operation, params, map_results)\u001b[0m\n\u001b[1;32m    372\u001b[0m \u001b[38;5;28;01mexcept\u001b[39;00m (ProgrammingError, \u001b[38;5;167;01mReferenceError\u001b[39;00m) \u001b[38;5;28;01mas\u001b[39;00m err:\n\u001b[1;32m    373\u001b[0m     \u001b[38;5;28;01mraise\u001b[39;00m ProgrammingError(\u001b[38;5;124m\"\u001b[39m\u001b[38;5;124mCursor is not connected\u001b[39m\u001b[38;5;124m\"\u001b[39m) \u001b[38;5;28;01mfrom\u001b[39;00m \u001b[38;5;21;01merr\u001b[39;00m\n\u001b[0;32m--> 375\u001b[0m \u001b[38;5;28mself\u001b[39m\u001b[38;5;241m.\u001b[39m_connection\u001b[38;5;241m.\u001b[39mhandle_unread_result()\n\u001b[1;32m    376\u001b[0m \u001b[38;5;28mself\u001b[39m\u001b[38;5;241m.\u001b[39m_reset_result()\n\u001b[1;32m    378\u001b[0m stmt \u001b[38;5;241m=\u001b[39m \u001b[38;5;124mb\u001b[39m\u001b[38;5;124m\"\u001b[39m\u001b[38;5;124m\"\u001b[39m\n",
      "File \u001b[0;32m~/miniconda3/lib/python3.11/site-packages/mysql/connector/connection.py:1740\u001b[0m, in \u001b[0;36mMySQLConnection.handle_unread_result\u001b[0;34m(self)\u001b[0m\n\u001b[1;32m   1738\u001b[0m     \u001b[38;5;28mself\u001b[39m\u001b[38;5;241m.\u001b[39mconsume_results()\n\u001b[1;32m   1739\u001b[0m \u001b[38;5;28;01melif\u001b[39;00m \u001b[38;5;28mself\u001b[39m\u001b[38;5;241m.\u001b[39munread_result:\n\u001b[0;32m-> 1740\u001b[0m     \u001b[38;5;28;01mraise\u001b[39;00m InternalError(\u001b[38;5;124m\"\u001b[39m\u001b[38;5;124mUnread result found\u001b[39m\u001b[38;5;124m\"\u001b[39m)\n",
      "\u001b[0;31mInternalError\u001b[0m: Unread result found"
     ]
    }
   ],
   "source": [
    "# 🧱 Create Tables\n",
    "cursor.execute(\"\"\"\n",
    "CREATE TABLE IF NOT EXISTS Customers (\n",
    "    CustomerID INT PRIMARY KEY,\n",
    "    Name VARCHAR(50)\n",
    ");\n",
    "\n",
    "CREATE TABLE IF NOT EXISTS Orders (\n",
    "    OrderID INT PRIMARY KEY,\n",
    "    CustomerID INT,\n",
    "    Amount DECIMAL(10,2),\n",
    "    FOREIGN KEY (CustomerID) REFERENCES Customers(CustomerID)\n",
    ");\n",
    "\"\"\")"
   ]
  },
  {
   "cell_type": "code",
   "execution_count": 27,
   "metadata": {},
   "outputs": [],
   "source": [
    "import mysql.connector\n",
    "\n",
    "conn = mysql.connector.connect(\n",
    "    host=\"localhost\",\n",
    "    user=\"root\",\n",
    "    database=\"ShopDB\"\n",
    ")\n",
    "\n",
    "cursor = conn.cursor()\n",
    "\n",
    "# Clear the tables before inserting new data\n",
    "cursor.execute(\"DELETE FROM Orders\")\n",
    "cursor.execute(\"DELETE FROM Customers\")\n",
    "\n",
    "# Insert synthetic customer data\n",
    "customers = [\n",
    "    (1, 'Alice'),\n",
    "    (2, 'Bob'),\n",
    "    (3, 'Charlie')\n",
    "]\n",
    "\n",
    "# Insert synthetic order data\n",
    "orders = [\n",
    "    (101, 1, 250.00),\n",
    "    (102, 1, 150.50),\n",
    "    (103, 2, 450.75),\n",
    "    (104, 3, 300.00),\n",
    "    (105, 2, 120.25)\n",
    "]"
   ]
  },
  {
   "cell_type": "code",
   "execution_count": 28,
   "metadata": {},
   "outputs": [],
   "source": [
    "# 🧪 Insert Synthetic Data\n",
    "cursor.execute(\"DELETE FROM Orders\")\n",
    "cursor.execute(\"DELETE FROM Customers\")\n",
    "\n",
    "customers = [\n",
    "    (1, 'Alice'),\n",
    "    (2, 'Bob'),\n",
    "    (3, 'Charlie')\n",
    "]\n",
    "orders = [\n",
    "    (101, 1, 250.00),\n",
    "    (102, 1, 150.50),\n",
    "    (103, 2, 450.75),\n",
    "    (104, 3, 300.00),\n",
    "    (105, 2, 120.25)\n",
    "]\n",
    "\n",
    "cursor.executemany(\"INSERT INTO Customers (CustomerID, Name) VALUES (%s, %s)\", customers)\n",
    "cursor.executemany(\"INSERT INTO Orders (OrderID, CustomerID, Amount) VALUES (%s, %s, %s)\", orders)\n",
    "conn.commit()"
   ]
  },
  {
   "cell_type": "code",
   "execution_count": 29,
   "metadata": {},
   "outputs": [
    {
     "name": "stdout",
     "output_type": "stream",
     "text": [
      "('Alice', Decimal('250.00'))\n",
      "('Alice', Decimal('150.50'))\n",
      "('Bob', Decimal('450.75'))\n",
      "('Bob', Decimal('120.25'))\n",
      "('Charlie', Decimal('300.00'))\n"
     ]
    }
   ],
   "source": [
    "# 🔍 SELECT + INNER JOIN\n",
    "cursor.execute(\"\"\"\n",
    "SELECT Customers.Name, Orders.Amount\n",
    "FROM Customers\n",
    "INNER JOIN Orders ON Customers.CustomerID = Orders.CustomerID;\n",
    "\"\"\")\n",
    "for row in cursor.fetchall():\n",
    "    print(row)"
   ]
  },
  {
   "cell_type": "code",
   "execution_count": 30,
   "metadata": {},
   "outputs": [
    {
     "name": "stdout",
     "output_type": "stream",
     "text": [
      "(1, 2, Decimal('400.50'), Decimal('200.250000'), Decimal('250.00'), Decimal('150.50'))\n",
      "(2, 2, Decimal('571.00'), Decimal('285.500000'), Decimal('450.75'), Decimal('120.25'))\n",
      "(3, 1, Decimal('300.00'), Decimal('300.000000'), Decimal('300.00'), Decimal('300.00'))\n"
     ]
    }
   ],
   "source": [
    "# 🔄 GROUP BY + AGGREGATES\n",
    "cursor.execute(\"\"\"\n",
    "SELECT CustomerID,\n",
    "       COUNT(*) AS OrderCount,\n",
    "       SUM(Amount) AS Total,\n",
    "       AVG(Amount) AS Average,\n",
    "       MAX(Amount) AS MaxAmount,\n",
    "       MIN(Amount) AS MinAmount\n",
    "FROM Orders\n",
    "GROUP BY CustomerID;\n",
    "\"\"\")\n",
    "for row in cursor.fetchall():\n",
    "    print(row)"
   ]
  },
  {
   "cell_type": "code",
   "execution_count": 31,
   "metadata": {},
   "outputs": [],
   "source": [
    "# 🧹 Close connection\n",
    "cursor.close()\n",
    "conn.close()"
   ]
  },
  {
   "cell_type": "code",
   "execution_count": null,
   "metadata": {},
   "outputs": [],
   "source": []
  },
  {
   "cell_type": "code",
   "execution_count": null,
   "metadata": {},
   "outputs": [],
   "source": []
  }
 ],
 "metadata": {
  "kernelspec": {
   "display_name": "Python 3 (ipykernel)",
   "language": "python",
   "name": "python3"
  },
  "language_info": {
   "codemirror_mode": {
    "name": "ipython",
    "version": 3
   },
   "file_extension": ".py",
   "mimetype": "text/x-python",
   "name": "python",
   "nbconvert_exporter": "python",
   "pygments_lexer": "ipython3",
   "version": "3.11.0"
  }
 },
 "nbformat": 4,
 "nbformat_minor": 4
}
