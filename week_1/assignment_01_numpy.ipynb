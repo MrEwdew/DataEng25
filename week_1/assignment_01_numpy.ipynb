{
  "cells": [
    {
      "cell_type": "markdown",
      "metadata": {
        "_uuid": "7dac2651304bbdd274a99291c17f3be1e84c222b",
        "id": "pQh-dd5Eslgc"
      },
      "source": [
        "# Numpy exercises\n",
        "\n",
        "HINT: use the Numpy documentations\n",
        "* [NumPy User Guide](https://numpy.org/doc/1.22/user/index.html#user)\n",
        "* [NumPy API](https://numpy.org/doc/1.22/reference/index.html#reference)"
      ]
    },
    {
      "cell_type": "code",
      "execution_count": 1,
      "metadata": {
        "_uuid": "1f42e0ab79d92a23b119e23ab8dda63393447466",
        "tags": [],
        "id": "sW0ceWcUslge"
      },
      "outputs": [],
      "source": [
        "\n",
        "  import numpy as np"
      ]
    },
    {
      "cell_type": "markdown",
      "metadata": {
        "_uuid": "77978f9afb5f957440f180861ccb06c2f644c317",
        "id": "SPwOd2yKslge"
      },
      "source": [
        "\n",
        "\n",
        "#### 1) Create a null vector of size 10 (★☆☆)"
      ]
    },
    {
      "cell_type": "code",
      "execution_count": 2,
      "metadata": {
        "_uuid": "beeb301d90b0fd6cb0f015969c969870bee981e8",
        "id": "_Acc471Xslgf",
        "outputId": "7972a9e3-3472-450f-aa69-0f45840c5c32",
        "colab": {
          "base_uri": "https://localhost:8080/"
        }
      },
      "outputs": [
        {
          "output_type": "execute_result",
          "data": {
            "text/plain": [
              "array([0., 0., 0., 0., 0., 0., 0., 0., 0., 0.])"
            ]
          },
          "metadata": {},
          "execution_count": 2
        }
      ],
      "source": [
        "# prompt: Create a null vector of size 10\n",
        "\n",
        "Z = np.zeros(10)\n",
        "Z"
      ]
    },
    {
      "cell_type": "markdown",
      "metadata": {
        "_uuid": "9f2912dbc92ebcc2e86ac09930187d5d101552da",
        "id": "V-2qDGI5slgf"
      },
      "source": [
        "#### 2) Print the memory size in bytes of any array (★☆☆)"
      ]
    },
    {
      "cell_type": "code",
      "execution_count": 5,
      "metadata": {
        "_uuid": "114a14936bde56cae519ed2f781f0b241251bdab",
        "id": "FJyMsGiFslgf",
        "outputId": "b38fc41e-445b-4c60-fbfd-0df6694cc433",
        "colab": {
          "base_uri": "https://localhost:8080/"
        }
      },
      "outputs": [
        {
          "output_type": "execute_result",
          "data": {
            "text/plain": [
              "800"
            ]
          },
          "metadata": {},
          "execution_count": 5
        }
      ],
      "source": [
        "Z = np.zeros((10,10))\n",
        "Z.size*Z.itemsize\n"
      ]
    },
    {
      "cell_type": "markdown",
      "metadata": {
        "_uuid": "c75ba6ea73f0a23f837c1553a0f564fbb8748557",
        "id": "TyNqrJecslgg"
      },
      "source": [
        "#### 3) Create a null vector of size 10 but the fifth value which is 1 (★☆☆)"
      ]
    },
    {
      "cell_type": "code",
      "execution_count": 6,
      "metadata": {
        "_uuid": "a916d1332f7e1d7499fd9de3bb422651711df025",
        "id": "aSgJ2lpLslgh",
        "outputId": "c17579b1-735f-470c-9db8-c760f02bcae8",
        "colab": {
          "base_uri": "https://localhost:8080/"
        }
      },
      "outputs": [
        {
          "output_type": "execute_result",
          "data": {
            "text/plain": [
              "array([0., 0., 0., 0., 1., 0., 0., 0., 0., 0.])"
            ]
          },
          "metadata": {},
          "execution_count": 6
        }
      ],
      "source": [
        "Z = np.zeros(10)\n",
        "Z[4] = 1\n",
        "Z\n"
      ]
    },
    {
      "cell_type": "markdown",
      "metadata": {
        "_uuid": "118478fd9f22dc99584c1517078f1cdd4a4b36fc",
        "id": "LxHfAKkdslgh"
      },
      "source": [
        "#### 4) Create a vector with values ranging from 20 to 80 (★☆☆)"
      ]
    },
    {
      "cell_type": "code",
      "execution_count": 7,
      "metadata": {
        "_uuid": "ac7cbc58129168a298298ae6d3a756a2a94c2a5d",
        "id": "L_DlSy1Tslgi",
        "outputId": "53d05dd7-5f4d-448c-c9fc-2398e93a9b5b",
        "colab": {
          "base_uri": "https://localhost:8080/"
        }
      },
      "outputs": [
        {
          "output_type": "execute_result",
          "data": {
            "text/plain": [
              "array([20, 21, 22, 23, 24, 25, 26, 27, 28, 29, 30, 31, 32, 33, 34, 35, 36,\n",
              "       37, 38, 39, 40, 41, 42, 43, 44, 45, 46, 47, 48, 49, 50, 51, 52, 53,\n",
              "       54, 55, 56, 57, 58, 59, 60, 61, 62, 63, 64, 65, 66, 67, 68, 69, 70,\n",
              "       71, 72, 73, 74, 75, 76, 77, 78, 79, 80])"
            ]
          },
          "metadata": {},
          "execution_count": 7
        }
      ],
      "source": [
        "Z = np.arange(20,81)\n",
        "Z\n"
      ]
    },
    {
      "cell_type": "markdown",
      "metadata": {
        "_uuid": "1c153cfc18b4c413b602d9fa073a4c049f1e703b",
        "id": "SorsPqjKslgi"
      },
      "source": [
        "#### 5) Reverse a vector (first element becomes last) (★☆☆)"
      ]
    },
    {
      "cell_type": "code",
      "execution_count": 8,
      "metadata": {
        "_uuid": "f1498235d2137116b1a7fabc6626dc8549235aba",
        "id": "VB3XW2klslgj",
        "outputId": "c03087f1-572e-4ebf-8363-92152a0480f8",
        "colab": {
          "base_uri": "https://localhost:8080/"
        }
      },
      "outputs": [
        {
          "output_type": "execute_result",
          "data": {
            "text/plain": [
              "array([49, 48, 47, 46, 45, 44, 43, 42, 41, 40, 39, 38, 37, 36, 35, 34, 33,\n",
              "       32, 31, 30, 29, 28, 27, 26, 25, 24, 23, 22, 21, 20, 19, 18, 17, 16,\n",
              "       15, 14, 13, 12, 11, 10,  9,  8,  7,  6,  5,  4,  3,  2,  1,  0])"
            ]
          },
          "metadata": {},
          "execution_count": 8
        }
      ],
      "source": [
        "Z = np.arange(50)\n",
        "Z = Z[::-1]\n",
        "Z\n"
      ]
    },
    {
      "cell_type": "markdown",
      "metadata": {
        "_uuid": "647011edcdd237ef4bfa0ec4ce3a108805bbd11f",
        "id": "_peo3Nryslgj"
      },
      "source": [
        "#### 6) Create a 3x3 matrix with values ranging from 0 to 8 (★☆☆)"
      ]
    },
    {
      "cell_type": "code",
      "execution_count": 9,
      "metadata": {
        "_uuid": "d6bf86992dbc3539332876b2caf973bafdb9a790",
        "id": "YrObvLpislgj",
        "outputId": "80c92e05-8357-406c-8bd5-c325e498af10",
        "colab": {
          "base_uri": "https://localhost:8080/"
        }
      },
      "outputs": [
        {
          "output_type": "execute_result",
          "data": {
            "text/plain": [
              "array([[0, 1, 2],\n",
              "       [3, 4, 5],\n",
              "       [6, 7, 8]])"
            ]
          },
          "metadata": {},
          "execution_count": 9
        }
      ],
      "source": [
        "Z = np.arange(9).reshape(3,3)\n",
        "Z"
      ]
    },
    {
      "cell_type": "markdown",
      "metadata": {
        "_uuid": "c7d5733bee779737b5ad4250b257d0a1423ffbff",
        "id": "TLCG0mzfslgj"
      },
      "source": [
        "#### 7) Find indices of non-zero elements from \\[1,2,0,0,4,0\\] (★☆☆)"
      ]
    },
    {
      "cell_type": "code",
      "execution_count": 10,
      "metadata": {
        "_uuid": "e6e0544a4326eaf8f3ea6390a16422a9844d48fc",
        "id": "rNaQjvT_slgk",
        "outputId": "24f89e33-56eb-4b93-f4da-3d3fb05dcca5",
        "colab": {
          "base_uri": "https://localhost:8080/"
        }
      },
      "outputs": [
        {
          "output_type": "execute_result",
          "data": {
            "text/plain": [
              "(array([0, 1, 4]),)"
            ]
          },
          "metadata": {},
          "execution_count": 10
        }
      ],
      "source": [
        "Z = np.nonzero([1,2,0,0,4,0])\n",
        "Z"
      ]
    },
    {
      "cell_type": "markdown",
      "metadata": {
        "_uuid": "ab5c1aaf0377ab923c6dbb7452671c181544734a",
        "id": "POd4rofcslgk"
      },
      "source": [
        "#### 8) Create a 3x3 identity matrix (★☆☆)"
      ]
    },
    {
      "cell_type": "code",
      "execution_count": 11,
      "metadata": {
        "_uuid": "0e10bd7b228cff4c485d80142fa5afcea12eb0e1",
        "id": "0ZFMJqSRslgk",
        "outputId": "231cd884-2785-4e65-d8ff-99b258a49e80",
        "colab": {
          "base_uri": "https://localhost:8080/"
        }
      },
      "outputs": [
        {
          "output_type": "execute_result",
          "data": {
            "text/plain": [
              "array([[1., 0., 0.],\n",
              "       [0., 1., 0.],\n",
              "       [0., 0., 1.]])"
            ]
          },
          "metadata": {},
          "execution_count": 11
        }
      ],
      "source": [
        "Z = np.eye(3)\n",
        "Z"
      ]
    },
    {
      "cell_type": "markdown",
      "metadata": {
        "_uuid": "9c3d53fd277d07937bc04838c4ca57a0aaaec498",
        "id": "867NNjbtslgk"
      },
      "source": [
        "#### 9) Create a 3x3x3 array with random values (★☆☆)"
      ]
    },
    {
      "cell_type": "code",
      "execution_count": 12,
      "metadata": {
        "_uuid": "77840458ba47b330dd84bab7a119e85299856c57",
        "tags": [],
        "id": "0d9jqPnUslgk",
        "outputId": "7dc62a31-8012-4d44-812a-245d00228849",
        "colab": {
          "base_uri": "https://localhost:8080/"
        }
      },
      "outputs": [
        {
          "output_type": "execute_result",
          "data": {
            "text/plain": [
              "array([[[0.4304879 , 0.7248494 , 0.95235931],\n",
              "        [0.18159239, 0.07602086, 0.28520201],\n",
              "        [0.211983  , 0.14250757, 0.40655487]],\n",
              "\n",
              "       [[0.2371565 , 0.46360879, 0.15664804],\n",
              "        [0.75031715, 0.80904248, 0.23059446],\n",
              "        [0.30801894, 0.20595487, 0.3610458 ]],\n",
              "\n",
              "       [[0.63377138, 0.52152298, 0.45156344],\n",
              "        [0.97566516, 0.57116309, 0.60639459],\n",
              "        [0.22438317, 0.19006333, 0.54577596]]])"
            ]
          },
          "metadata": {},
          "execution_count": 12
        }
      ],
      "source": [
        "Z = np.random.random((3,3,3))\n",
        "Z"
      ]
    },
    {
      "cell_type": "markdown",
      "metadata": {
        "_uuid": "886bef95cd1aa9af4133902b45b50127b5da54cb",
        "id": "zABYui_nslgl"
      },
      "source": [
        "#### 10) Create a 10x10 array with random values and find the minimum and maximum values (★☆☆)"
      ]
    },
    {
      "cell_type": "code",
      "execution_count": 13,
      "metadata": {
        "_uuid": "a8c13dc011c6afb824c3a7031330b6bd1a77e497",
        "id": "IKur3FdEslgl",
        "outputId": "7776e99f-0da6-4abf-f9d9-523aca29ae7c",
        "colab": {
          "base_uri": "https://localhost:8080/"
        }
      },
      "outputs": [
        {
          "output_type": "execute_result",
          "data": {
            "text/plain": [
              "(np.float64(0.0021875529939221483), np.float64(0.9936860760155606))"
            ]
          },
          "metadata": {},
          "execution_count": 13
        }
      ],
      "source": [
        "Z = np.random.random((10,10))\n",
        "Zmin, Zmax = Z.min(), Z.max()\n",
        "Zmin, Zmax"
      ]
    },
    {
      "cell_type": "markdown",
      "metadata": {
        "_uuid": "07db1e47dcff92113a6d4c696e92a5578b20d89f",
        "id": "3DU3UVPCslgl"
      },
      "source": [
        "#### 11) Create a random vector of size 30 and find the mean, variance values (★☆☆)"
      ]
    },
    {
      "cell_type": "code",
      "execution_count": 14,
      "metadata": {
        "_uuid": "a6533f70b28d583e6e1926a0e3e668b465d6ef6c",
        "id": "6ak6_u4Jslgl",
        "outputId": "b5ac87f9-a499-40f7-e4ef-a76a7e3aec22",
        "colab": {
          "base_uri": "https://localhost:8080/"
        }
      },
      "outputs": [
        {
          "output_type": "execute_result",
          "data": {
            "text/plain": [
              "(np.float64(0.44905600246013655), np.float64(0.06652927204942964))"
            ]
          },
          "metadata": {},
          "execution_count": 14
        }
      ],
      "source": [
        "Z = np.random.random(30)\n",
        "m = Z.mean()\n",
        "v = Z.var()\n",
        "m,v"
      ]
    },
    {
      "cell_type": "markdown",
      "metadata": {
        "_uuid": "2234dffb1dffc779d1d24f269da232a560848ad0",
        "id": "I7xaHEdUslgl"
      },
      "source": [
        "#### 12) Create a 2d array with 1 on the border and 0 inside (★☆☆)"
      ]
    },
    {
      "cell_type": "code",
      "execution_count": 15,
      "metadata": {
        "_uuid": "03bef7c11ab2593768ce88331a92c0c7cc10d463",
        "id": "7mK7jQ8nslgl",
        "outputId": "6043b34a-60bb-4ef1-82d1-1d08f2d6fc64",
        "colab": {
          "base_uri": "https://localhost:8080/"
        }
      },
      "outputs": [
        {
          "output_type": "execute_result",
          "data": {
            "text/plain": [
              "array([[1., 1., 1., 1., 1., 1., 1., 1., 1., 1.],\n",
              "       [1., 0., 0., 0., 0., 0., 0., 0., 0., 1.],\n",
              "       [1., 0., 0., 0., 0., 0., 0., 0., 0., 1.],\n",
              "       [1., 0., 0., 0., 0., 0., 0., 0., 0., 1.],\n",
              "       [1., 0., 0., 0., 0., 0., 0., 0., 0., 1.],\n",
              "       [1., 0., 0., 0., 0., 0., 0., 0., 0., 1.],\n",
              "       [1., 0., 0., 0., 0., 0., 0., 0., 0., 1.],\n",
              "       [1., 0., 0., 0., 0., 0., 0., 0., 0., 1.],\n",
              "       [1., 0., 0., 0., 0., 0., 0., 0., 0., 1.],\n",
              "       [1., 1., 1., 1., 1., 1., 1., 1., 1., 1.]])"
            ]
          },
          "metadata": {},
          "execution_count": 15
        }
      ],
      "source": [
        "Z = np.ones((10,10))\n",
        "Z[1:-1,1:-1] = 0\n",
        "Z\n"
      ]
    },
    {
      "cell_type": "markdown",
      "metadata": {
        "_uuid": "6e24eff853c1ead319eba0adf0efdf31a58c6944",
        "id": "ufBt3lacslgm"
      },
      "source": [
        "#### 13) How to add a border (filled with 0's) around an existing array? (★☆☆)"
      ]
    },
    {
      "cell_type": "code",
      "execution_count": 16,
      "metadata": {
        "_uuid": "573dd1238aef49fed4a9cfeb645c09119a307916",
        "id": "mqOpacFjslgm",
        "outputId": "2df47aca-5d2d-4445-fa2a-80b46d07a4d7",
        "colab": {
          "base_uri": "https://localhost:8080/"
        }
      },
      "outputs": [
        {
          "output_type": "execute_result",
          "data": {
            "text/plain": [
              "array([[0., 0., 0., 0., 0., 0., 0.],\n",
              "       [0., 1., 1., 1., 1., 1., 0.],\n",
              "       [0., 1., 1., 1., 1., 1., 0.],\n",
              "       [0., 1., 1., 1., 1., 1., 0.],\n",
              "       [0., 1., 1., 1., 1., 1., 0.],\n",
              "       [0., 1., 1., 1., 1., 1., 0.],\n",
              "       [0., 0., 0., 0., 0., 0., 0.]])"
            ]
          },
          "metadata": {},
          "execution_count": 16
        }
      ],
      "source": [
        "Z = np.ones((5,5))\n",
        "Z = np.pad(Z, pad_width=1, mode='constant', constant_values=0)\n",
        "Z\n"
      ]
    },
    {
      "cell_type": "markdown",
      "metadata": {
        "_uuid": "1f657aee797f18a40aa7a5e98362719bc73ebdee",
        "id": "f5TNPeUaslgm"
      },
      "source": [
        "#### 14) Predict (before executing) the results of the following expressions? (★☆☆)"
      ]
    },
    {
      "cell_type": "code",
      "execution_count": 18,
      "metadata": {
        "_uuid": "5bd51740ffe0b687da93acf403807897292ebbc5",
        "id": "LMAR-IO6slgm",
        "outputId": "bf4407c3-b353-4a3a-e1de-56b0b683460f",
        "colab": {
          "base_uri": "https://localhost:8080/"
        }
      },
      "outputs": [
        {
          "output_type": "stream",
          "name": "stdout",
          "text": [
            "nan\n",
            "False\n",
            "False\n",
            "nan\n",
            "True\n",
            "False\n"
          ]
        }
      ],
      "source": [
        "print(0 * np.nan)\n",
        "print(np.nan == np.nan)\n",
        "print(np.inf > np.nan)\n",
        "print(np.nan - np.nan)\n",
        "print(np.nan in set([np.nan]))\n",
        "print(0.3 == 3 * 0.1)"
      ]
    },
    {
      "cell_type": "markdown",
      "metadata": {
        "_uuid": "e22023622e0ec70b97ca378772dae42cff45d73c",
        "id": "9WU-ukW0slgn"
      },
      "source": [
        "#### 15) Create a 6×6 matrix with values 1,2,3,4,5 just below the diagonal (★☆☆)"
      ]
    },
    {
      "cell_type": "code",
      "execution_count": 23,
      "metadata": {
        "_uuid": "f1aaa690119ec31eb516c96023250ff10f2800be",
        "id": "qcYz55twslgn",
        "outputId": "7668df55-105c-4d03-8630-4314cbaab62b",
        "colab": {
          "base_uri": "https://localhost:8080/"
        }
      },
      "outputs": [
        {
          "output_type": "execute_result",
          "data": {
            "text/plain": [
              "array([[0, 0, 0, 0, 0, 0],\n",
              "       [1, 0, 0, 0, 0, 0],\n",
              "       [0, 2, 0, 0, 0, 0],\n",
              "       [0, 0, 3, 0, 0, 0],\n",
              "       [0, 0, 0, 4, 0, 0],\n",
              "       [0, 0, 0, 0, 5, 0]])"
            ]
          },
          "metadata": {},
          "execution_count": 23
        }
      ],
      "source": [
        "Z = np.diag(1+np.arange(5))\n",
        "#Z = np.diag(1+np.arange(5),k=-1)\n",
        "Z"
      ]
    },
    {
      "cell_type": "markdown",
      "metadata": {
        "_uuid": "2e1e85761e1eafa4cd8986a3aa28763f2b8197e2",
        "id": "fndMDrUKslgn"
      },
      "source": [
        "#### 16) Create a 8x8 matrix and fill it with a checkerboard (0,1) pattern (★☆☆)"
      ]
    },
    {
      "cell_type": "code",
      "execution_count": 32,
      "metadata": {
        "_uuid": "467504e8796a218a3faa0a787775d8aa577f4c32",
        "id": "kWW9xTBDslgn",
        "outputId": "f8d36bcd-0453-4ac8-9957-a501029ee138",
        "colab": {
          "base_uri": "https://localhost:8080/"
        }
      },
      "outputs": [
        {
          "output_type": "execute_result",
          "data": {
            "text/plain": [
              "array([[0, 1, 0, 1, 0, 1, 0, 1],\n",
              "       [1, 0, 1, 0, 1, 0, 1, 0],\n",
              "       [0, 1, 0, 1, 0, 1, 0, 1],\n",
              "       [1, 0, 1, 0, 1, 0, 1, 0],\n",
              "       [0, 1, 0, 1, 0, 1, 0, 1],\n",
              "       [1, 0, 1, 0, 1, 0, 1, 0],\n",
              "       [0, 1, 0, 1, 0, 1, 0, 1],\n",
              "       [1, 0, 1, 0, 1, 0, 1, 0]])"
            ]
          },
          "metadata": {},
          "execution_count": 32
        }
      ],
      "source": [
        "#Z = np.zeros((8,8),dtype=int)\n",
        "Z = np.tile( np.array([[0,1],[1,0]]), (4,4))\n",
        "Z"
      ]
    },
    {
      "cell_type": "markdown",
      "metadata": {
        "_uuid": "87e644b2696a16879dcf96b35b17a48db550cd04",
        "id": "Hy0OCYfVslgn"
      },
      "source": [
        "#### 17) Consider a (5,6,7) shape array, what is the index (x, y, z) of the 50th element?"
      ]
    },
    {
      "cell_type": "code",
      "execution_count": null,
      "metadata": {
        "_uuid": "eabdb2c5e23366c763f0cc39939ee68866c3f111",
        "id": "0FGAbPpBslgo"
      },
      "outputs": [],
      "source": []
    },
    {
      "cell_type": "markdown",
      "metadata": {
        "_uuid": "659926bf5bf80842361a658fd0f84bf24084fbf3",
        "id": "pFYYZtnZslgo"
      },
      "source": [
        "#### 18) Multiply a 4x2 matrix by a 2x3 matrix (real matrix product) (★☆☆)"
      ]
    },
    {
      "cell_type": "code",
      "execution_count": 33,
      "metadata": {
        "_uuid": "8be73ba1bd9778d487ac20ef5658c7b8e57c3d67",
        "id": "VwIZ4PHgslgo",
        "outputId": "8884ee19-9936-420d-c6e9-f1c38c11b92d",
        "colab": {
          "base_uri": "https://localhost:8080/"
        }
      },
      "outputs": [
        {
          "output_type": "execute_result",
          "data": {
            "text/plain": [
              "array([[2., 2., 2.],\n",
              "       [2., 2., 2.],\n",
              "       [2., 2., 2.],\n",
              "       [2., 2., 2.]])"
            ]
          },
          "metadata": {},
          "execution_count": 33
        }
      ],
      "source": [
        "Z = np.dot(np.ones((4,2)), np.ones((2,3)))\n",
        "Z"
      ]
    },
    {
      "cell_type": "markdown",
      "metadata": {
        "_uuid": "0a65567844ac53a18dbb387a8694da2b1c78294a",
        "id": "aehfZnzoslgo"
      },
      "source": [
        "#### 19) Given a 1D array, negate all elements which are between 3 and 8, in place. (★☆☆)"
      ]
    },
    {
      "cell_type": "code",
      "execution_count": null,
      "metadata": {
        "_uuid": "d48512adb16f06371f651dd8dc1ae9ea1c3586b1",
        "id": "vwm7-zvlslgo"
      },
      "outputs": [],
      "source": [
        "# Author: Evgeni Burovski\n",
        "\n",
        "Z = np.arange(11)\n"
      ]
    },
    {
      "cell_type": "markdown",
      "metadata": {
        "_uuid": "e49ca0d2249b4a5cf25b264e42c6feb3057889ed",
        "id": "jhHTfSmOslgp"
      },
      "source": [
        "#### 20. How to find common values between two arrays? (★☆☆)"
      ]
    },
    {
      "cell_type": "code",
      "execution_count": null,
      "metadata": {
        "_uuid": "b7a1b2802e4c4a2ac5baf737e2065c55bef226b6",
        "id": "Wrd3Qm0Fslgp"
      },
      "outputs": [],
      "source": [
        "Z1 = np.random.randint(0,10,10)\n",
        "Z2 = np.random.randint(0,10,10)\n"
      ]
    },
    {
      "cell_type": "markdown",
      "metadata": {
        "_uuid": "9e2512ad8b29d3599cababc7009febce91929869",
        "id": "jc4eAVDPslgp"
      },
      "source": [
        "#### 21) How to compute ((A+B)\\*(-A/2)) in place (without copy)? (★★☆)"
      ]
    },
    {
      "cell_type": "code",
      "execution_count": null,
      "metadata": {
        "_uuid": "4fb34450b8dfabe74d9e411ec45c717e15a0efcd",
        "id": "zV8xJCfLslgp"
      },
      "outputs": [],
      "source": [
        "A = np.ones(3)*1\n",
        "B = np.ones(3)*2\n",
        "C = np.ones(3)*3\n"
      ]
    },
    {
      "cell_type": "markdown",
      "metadata": {
        "_uuid": "861564e1209df602ba9acf76b21764166d941f64",
        "id": "dlhS4HI7slgp"
      },
      "source": [
        "#### 22) Extract the integer part of a random array (★★☆)"
      ]
    },
    {
      "cell_type": "code",
      "execution_count": null,
      "metadata": {
        "_uuid": "26071c39ddc28c65fe06329b480504455890609e",
        "id": "wxLZj194slgp"
      },
      "outputs": [],
      "source": [
        "Z = np.random.uniform(0,10,10)\n",
        "\n"
      ]
    },
    {
      "cell_type": "markdown",
      "metadata": {
        "_uuid": "1acff22fb998865b58d5a9b37b0a5ce5b7f13387",
        "id": "2pbwU2X8slgq"
      },
      "source": [
        "#### 23) Create a 5x5 matrix with row values ranging from 0 to 4 (★★☆)"
      ]
    },
    {
      "cell_type": "code",
      "execution_count": null,
      "metadata": {
        "_uuid": "728c78dc7d9477e3300f58d589fbbc888df3cecb",
        "id": "CuqKMfHjslgq"
      },
      "outputs": [],
      "source": [
        "Z = np.zeros((5,5))\n"
      ]
    },
    {
      "cell_type": "markdown",
      "metadata": {
        "_uuid": "dd54ec03c8ce814c994611575b49cd2e14b4071a",
        "id": "ZdXgOeJgslgq"
      },
      "source": [
        "#### 24) Consider a generator function that generates 10 integers and use it to build an array (★☆☆)"
      ]
    },
    {
      "cell_type": "code",
      "execution_count": null,
      "metadata": {
        "_uuid": "229a68e06163a294e63f0b377aa697aa8c925cb2",
        "id": "Uobr0k8_slgq"
      },
      "outputs": [],
      "source": []
    },
    {
      "cell_type": "markdown",
      "metadata": {
        "_uuid": "c52ceff787ef50f22325107cb5f5b1bfac61858f",
        "id": "5UgYfqRPslgr"
      },
      "source": [
        "#### 25) Create a vector of size 10 with values ranging from 0 to 1, both excluded (★★☆)"
      ]
    },
    {
      "cell_type": "code",
      "execution_count": null,
      "metadata": {
        "_uuid": "bcdb9a3b3a6a47768f53ea8e25b70070566c87eb",
        "id": "BMKHJXquslgr"
      },
      "outputs": [],
      "source": []
    },
    {
      "cell_type": "markdown",
      "metadata": {
        "_uuid": "34f5d6e2e269678714f1e5aafec8a92d6411ecd3",
        "id": "coNvCOs5slgr"
      },
      "source": [
        "#### 26) Create a random vector of size 10 and sort it (★★☆)"
      ]
    },
    {
      "cell_type": "code",
      "execution_count": null,
      "metadata": {
        "_uuid": "650bd640404dd8cfdbeb0d91b8fc5ea844ee60a8",
        "id": "NnAzf3V-slgr"
      },
      "outputs": [],
      "source": []
    },
    {
      "cell_type": "markdown",
      "metadata": {
        "_uuid": "0502011982ec9de8f998bdcc76ff2d00dc9bad6e",
        "id": "FpQX6nfhslgr"
      },
      "source": [
        "#### 27) Consider two random array A and B, check if they are equal (★★☆)"
      ]
    },
    {
      "cell_type": "code",
      "execution_count": null,
      "metadata": {
        "_uuid": "bc542c3112954260eac0bcf08bc8b0ae2ce0ae33",
        "id": "UHzA5zEBslgr"
      },
      "outputs": [],
      "source": [
        "A = np.random.randint(0,2,5)\n",
        "B = np.random.randint(0,2,5)\n",
        "\n"
      ]
    },
    {
      "cell_type": "markdown",
      "metadata": {
        "_uuid": "100623c44dc702d6ac2ac5d35b4e5173c906f317",
        "id": "jB3nLa4hslgs"
      },
      "source": [
        "#### 28) Make an array immutable (read-only) (★★☆)"
      ]
    },
    {
      "cell_type": "code",
      "execution_count": null,
      "metadata": {
        "_uuid": "14189438d83341e3e1f92c6a2ced78eefe330569",
        "id": "ofH5htyoslgs"
      },
      "outputs": [],
      "source": [
        "Z = np.zeros(10)\n"
      ]
    },
    {
      "cell_type": "markdown",
      "metadata": {
        "_uuid": "353f854c6c99f2889b0d31cc69bc1fd7fccd0fe1",
        "id": "PeSQ8e9Islgs"
      },
      "source": [
        "#### 29) Create random vector of size 10 and replace the maximum value by 0 (★★☆)"
      ]
    },
    {
      "cell_type": "code",
      "execution_count": null,
      "metadata": {
        "_uuid": "fd9c6de99887f58497e8880f38b8aab24beaef6a",
        "id": "cQt813peslgs"
      },
      "outputs": [],
      "source": [
        "Z = np.random.random(10)\n"
      ]
    },
    {
      "cell_type": "markdown",
      "metadata": {
        "_uuid": "35b4e9307a72301c43b077924e4674cdee69fdf0",
        "id": "_zdNLxteslgs"
      },
      "source": [
        "#### 30) How to convert a float (32 bits) array into an integer (32 bits) in place?"
      ]
    },
    {
      "cell_type": "code",
      "execution_count": null,
      "metadata": {
        "_uuid": "c67695d2efff4f63dbe4037694504a84deb8d4b9",
        "id": "fKB2d9Irslgs"
      },
      "outputs": [],
      "source": [
        "Z = np.arange(10, dtype=np.float32)\n"
      ]
    },
    {
      "cell_type": "markdown",
      "metadata": {
        "_uuid": "389113b4e22ac2f5454686a38fa9f4e2500e4c52",
        "id": "o3FJc4XHslgt"
      },
      "source": [
        "#### 31) randomly place 3 elements in a 2D array? (★★☆)"
      ]
    },
    {
      "cell_type": "code",
      "execution_count": null,
      "metadata": {
        "_uuid": "442c3c5664c0d9dbbe7149a0924e47c4a9699097",
        "id": "c3B6KATJslgt"
      },
      "outputs": [],
      "source": [
        "n = 10\n",
        "p = 3\n",
        "Z = np.zeros((n,n))\n"
      ]
    },
    {
      "cell_type": "markdown",
      "metadata": {
        "_uuid": "ad23d8b28a5016197192b4a6ecdfa61d3c54f49f",
        "id": "NA9n9o9Bslgt"
      },
      "source": [
        "#### 32) Subtract the mean of each row of a matrix (★★☆)"
      ]
    },
    {
      "cell_type": "code",
      "execution_count": null,
      "metadata": {
        "_uuid": "62937a93af1f4bd2ee201a0a28d92ad2e39aeadf",
        "id": "ZXH6coSQslgt"
      },
      "outputs": [],
      "source": [
        "X = np.random.rand(5, 10)\n"
      ]
    },
    {
      "cell_type": "markdown",
      "metadata": {
        "_uuid": "6dfaee28f6ffc182b31d95b2dd7db135b3cda134",
        "id": "qlTE3GqAslgu"
      },
      "source": [
        "#### 33) sort an array by the 1st column? (★★☆)"
      ]
    },
    {
      "cell_type": "code",
      "execution_count": null,
      "metadata": {
        "_uuid": "6d6526eff2206d6766e34a8a9d4aa45222304ecc",
        "id": "yp-tQo9xslgu",
        "outputId": "1f7ea83d-f385-4027-d16f-2e341ddb1b6c"
      },
      "outputs": [
        {
          "data": {
            "text/plain": [
              "array([[2, 8, 3],\n",
              "       [3, 0, 4],\n",
              "       [3, 3, 7]])"
            ]
          },
          "execution_count": 21,
          "metadata": {},
          "output_type": "execute_result"
        }
      ],
      "source": [
        "Z = np.random.randint(0,10,(3,3))\n",
        "Z"
      ]
    },
    {
      "cell_type": "markdown",
      "metadata": {
        "_uuid": "c446326eba80f10ee44e69c38975a02b76272c66",
        "id": "rdtUFOoGslgu"
      },
      "source": [
        "#### 34) Find the nearest value from a given value z in an array Z(★★☆)"
      ]
    },
    {
      "cell_type": "code",
      "execution_count": null,
      "metadata": {
        "_uuid": "475de3550f77c7407940a0b31eeb5016286445c4",
        "id": "GWoOOtFMslgu"
      },
      "outputs": [],
      "source": [
        "Z = np.random.uniform(0,1,10)\n",
        "z = 0.5\n"
      ]
    },
    {
      "cell_type": "markdown",
      "metadata": {
        "_uuid": "ed78b6480e33d62936d0454ef9757390456a37e8",
        "id": "9NuN3Lsmslgv"
      },
      "source": [
        "#### 35) Considering two arrays with shape (1,3) and (3,1): to compute their sum using an iterator (★★☆)"
      ]
    },
    {
      "cell_type": "code",
      "execution_count": null,
      "metadata": {
        "_uuid": "59b473c6731410e9a83cbf30b56fc6463c4ee8a4",
        "id": "GICapHTBslgv"
      },
      "outputs": [],
      "source": [
        "A = np.arange(3).reshape(3,1)\n",
        "B = np.arange(3).reshape(1,3)\n"
      ]
    },
    {
      "cell_type": "markdown",
      "metadata": {
        "_uuid": "24b86507600d4f283f09b3117a0b9266446e5b98",
        "id": "K-Xaaz7Vslgv"
      },
      "source": [
        "#### 36) find the most frequent value in an array"
      ]
    },
    {
      "cell_type": "code",
      "execution_count": null,
      "metadata": {
        "_uuid": "bc112b94dc08691f315afb878bdd2c52cbb4c3bc",
        "id": "VIspzUg5slgv"
      },
      "outputs": [],
      "source": [
        "Z = np.random.randint(0,10,50)\n"
      ]
    },
    {
      "cell_type": "markdown",
      "metadata": {
        "_uuid": "c5a8dd39a51cf4dbe37653e3d6131d06ac7a449c",
        "id": "upPqvPIDslgv"
      },
      "source": [
        "#### 37) Given a two dimensional array, extract unique rows (★★★)"
      ]
    },
    {
      "cell_type": "code",
      "execution_count": null,
      "metadata": {
        "_uuid": "2015fb48f278ce0021a3aa8f98db67438d2d92a6",
        "id": "n0V2vde8slgw"
      },
      "outputs": [],
      "source": [
        "Z = np.random.randint(0,2,(6,3))\n"
      ]
    },
    {
      "cell_type": "code",
      "execution_count": null,
      "metadata": {
        "id": "AFaDxo9yslgw"
      },
      "outputs": [],
      "source": []
    }
  ],
  "metadata": {
    "kernelspec": {
      "display_name": "Python 3 (ipykernel)",
      "language": "python",
      "name": "python3"
    },
    "language_info": {
      "codemirror_mode": {
        "name": "ipython",
        "version": 3
      },
      "file_extension": ".py",
      "mimetype": "text/x-python",
      "name": "python",
      "nbconvert_exporter": "python",
      "pygments_lexer": "ipython3",
      "version": "3.11.0"
    },
    "colab": {
      "provenance": []
    }
  },
  "nbformat": 4,
  "nbformat_minor": 0
}