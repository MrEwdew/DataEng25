{
  "cells": [
    {
      "cell_type": "markdown",
      "metadata": {
        "_uuid": "7dac2651304bbdd274a99291c17f3be1e84c222b",
        "id": "pQh-dd5Eslgc"
      },
      "source": [
        "# Numpy exercises\n",
        "\n",
        "HINT: use the Numpy documentations\n",
        "* [NumPy User Guide](https://numpy.org/doc/1.22/user/index.html#user)\n",
        "* [NumPy API](https://numpy.org/doc/1.22/reference/index.html#reference)"
      ]
    },
    {
      "cell_type": "code",
      "execution_count": 159,
      "metadata": {
        "_uuid": "1f42e0ab79d92a23b119e23ab8dda63393447466",
        "tags": [],
        "id": "sW0ceWcUslge"
      },
      "outputs": [],
      "source": [
        "\n",
        "  import numpy as np"
      ]
    },
    {
      "cell_type": "markdown",
      "metadata": {
        "_uuid": "77978f9afb5f957440f180861ccb06c2f644c317",
        "id": "SPwOd2yKslge"
      },
      "source": [
        "\n",
        "\n",
        "#### 1) Create a null vector of size 10 (★☆☆)"
      ]
    },
    {
      "cell_type": "code",
      "execution_count": 160,
      "metadata": {
        "_uuid": "beeb301d90b0fd6cb0f015969c969870bee981e8",
        "colab": {
          "base_uri": "https://localhost:8080/"
        },
        "id": "_Acc471Xslgf",
        "outputId": "a2136624-97ab-4dd4-ac8b-cfdc3e371cdc"
      },
      "outputs": [
        {
          "output_type": "execute_result",
          "data": {
            "text/plain": [
              "array([0., 0., 0., 0., 0., 0., 0., 0., 0., 0.])"
            ]
          },
          "metadata": {},
          "execution_count": 160
        }
      ],
      "source": [
        "# prompt: Create a null vector of size 10\n",
        "\n",
        "Z = np.zeros(10)\n",
        "Z"
      ]
    },
    {
      "cell_type": "markdown",
      "metadata": {
        "_uuid": "9f2912dbc92ebcc2e86ac09930187d5d101552da",
        "id": "V-2qDGI5slgf"
      },
      "source": [
        "#### 2) Print the memory size in bytes of any array (★☆☆)"
      ]
    },
    {
      "cell_type": "code",
      "execution_count": 161,
      "metadata": {
        "_uuid": "114a14936bde56cae519ed2f781f0b241251bdab",
        "colab": {
          "base_uri": "https://localhost:8080/"
        },
        "id": "FJyMsGiFslgf",
        "outputId": "936b9a9c-a8e9-4a50-89ce-bf054b3e0c6d"
      },
      "outputs": [
        {
          "output_type": "execute_result",
          "data": {
            "text/plain": [
              "800"
            ]
          },
          "metadata": {},
          "execution_count": 161
        }
      ],
      "source": [
        "Z = np.zeros((10,10))\n",
        "Z.size*Z.itemsize\n"
      ]
    },
    {
      "cell_type": "markdown",
      "metadata": {
        "_uuid": "c75ba6ea73f0a23f837c1553a0f564fbb8748557",
        "id": "TyNqrJecslgg"
      },
      "source": [
        "#### 3) Create a null vector of size 10 but the fifth value which is 1 (★☆☆)"
      ]
    },
    {
      "cell_type": "code",
      "execution_count": 162,
      "metadata": {
        "_uuid": "a916d1332f7e1d7499fd9de3bb422651711df025",
        "colab": {
          "base_uri": "https://localhost:8080/"
        },
        "id": "aSgJ2lpLslgh",
        "outputId": "230403fb-8629-44e2-ca77-240b787d0af9"
      },
      "outputs": [
        {
          "output_type": "execute_result",
          "data": {
            "text/plain": [
              "array([0., 0., 0., 0., 1., 0., 0., 0., 0., 0.])"
            ]
          },
          "metadata": {},
          "execution_count": 162
        }
      ],
      "source": [
        "Z = np.zeros(10)\n",
        "Z[4] = 1\n",
        "Z\n"
      ]
    },
    {
      "cell_type": "markdown",
      "metadata": {
        "_uuid": "118478fd9f22dc99584c1517078f1cdd4a4b36fc",
        "id": "LxHfAKkdslgh"
      },
      "source": [
        "#### 4) Create a vector with values ranging from 20 to 80 (★☆☆)"
      ]
    },
    {
      "cell_type": "code",
      "execution_count": 163,
      "metadata": {
        "_uuid": "ac7cbc58129168a298298ae6d3a756a2a94c2a5d",
        "colab": {
          "base_uri": "https://localhost:8080/"
        },
        "id": "L_DlSy1Tslgi",
        "outputId": "074dfba7-e0cd-4354-ed3f-e6d1cab1f86f"
      },
      "outputs": [
        {
          "output_type": "execute_result",
          "data": {
            "text/plain": [
              "array([20, 21, 22, 23, 24, 25, 26, 27, 28, 29, 30, 31, 32, 33, 34, 35, 36,\n",
              "       37, 38, 39, 40, 41, 42, 43, 44, 45, 46, 47, 48, 49, 50, 51, 52, 53,\n",
              "       54, 55, 56, 57, 58, 59, 60, 61, 62, 63, 64, 65, 66, 67, 68, 69, 70,\n",
              "       71, 72, 73, 74, 75, 76, 77, 78, 79, 80])"
            ]
          },
          "metadata": {},
          "execution_count": 163
        }
      ],
      "source": [
        "Z = np.arange(20,81)\n",
        "Z\n"
      ]
    },
    {
      "cell_type": "markdown",
      "metadata": {
        "_uuid": "1c153cfc18b4c413b602d9fa073a4c049f1e703b",
        "id": "SorsPqjKslgi"
      },
      "source": [
        "#### 5) Reverse a vector (first element becomes last) (★☆☆)"
      ]
    },
    {
      "cell_type": "code",
      "execution_count": 164,
      "metadata": {
        "_uuid": "f1498235d2137116b1a7fabc6626dc8549235aba",
        "colab": {
          "base_uri": "https://localhost:8080/"
        },
        "id": "VB3XW2klslgj",
        "outputId": "a7adfc46-e292-4f81-a887-67317ac98f6a"
      },
      "outputs": [
        {
          "output_type": "execute_result",
          "data": {
            "text/plain": [
              "array([49, 48, 47, 46, 45, 44, 43, 42, 41, 40, 39, 38, 37, 36, 35, 34, 33,\n",
              "       32, 31, 30, 29, 28, 27, 26, 25, 24, 23, 22, 21, 20, 19, 18, 17, 16,\n",
              "       15, 14, 13, 12, 11, 10,  9,  8,  7,  6,  5,  4,  3,  2,  1,  0])"
            ]
          },
          "metadata": {},
          "execution_count": 164
        }
      ],
      "source": [
        "Z = np.arange(50)\n",
        "Z = Z[::-1]\n",
        "Z\n"
      ]
    },
    {
      "cell_type": "markdown",
      "metadata": {
        "_uuid": "647011edcdd237ef4bfa0ec4ce3a108805bbd11f",
        "id": "_peo3Nryslgj"
      },
      "source": [
        "#### 6) Create a 3x3 matrix with values ranging from 0 to 8 (★☆☆)"
      ]
    },
    {
      "cell_type": "code",
      "execution_count": 165,
      "metadata": {
        "_uuid": "d6bf86992dbc3539332876b2caf973bafdb9a790",
        "colab": {
          "base_uri": "https://localhost:8080/"
        },
        "id": "YrObvLpislgj",
        "outputId": "47e379f9-9619-4ce8-f353-226922f98f6c"
      },
      "outputs": [
        {
          "output_type": "execute_result",
          "data": {
            "text/plain": [
              "array([[0, 1, 2],\n",
              "       [3, 4, 5],\n",
              "       [6, 7, 8]])"
            ]
          },
          "metadata": {},
          "execution_count": 165
        }
      ],
      "source": [
        "Z = np.arange(9).reshape(3,3)\n",
        "Z"
      ]
    },
    {
      "cell_type": "markdown",
      "metadata": {
        "_uuid": "c7d5733bee779737b5ad4250b257d0a1423ffbff",
        "id": "TLCG0mzfslgj"
      },
      "source": [
        "#### 7) Find indices of non-zero elements from \\[1,2,0,0,4,0\\] (★☆☆)"
      ]
    },
    {
      "cell_type": "code",
      "execution_count": 166,
      "metadata": {
        "_uuid": "e6e0544a4326eaf8f3ea6390a16422a9844d48fc",
        "colab": {
          "base_uri": "https://localhost:8080/"
        },
        "id": "rNaQjvT_slgk",
        "outputId": "828f8770-e7d1-4053-93a7-12f692bc8093"
      },
      "outputs": [
        {
          "output_type": "execute_result",
          "data": {
            "text/plain": [
              "(array([0, 1, 4]),)"
            ]
          },
          "metadata": {},
          "execution_count": 166
        }
      ],
      "source": [
        "Z = np.nonzero([1,2,0,0,4,0])\n",
        "Z"
      ]
    },
    {
      "cell_type": "markdown",
      "metadata": {
        "_uuid": "ab5c1aaf0377ab923c6dbb7452671c181544734a",
        "id": "POd4rofcslgk"
      },
      "source": [
        "#### 8) Create a 3x3 identity matrix (★☆☆)"
      ]
    },
    {
      "cell_type": "code",
      "execution_count": 167,
      "metadata": {
        "_uuid": "0e10bd7b228cff4c485d80142fa5afcea12eb0e1",
        "colab": {
          "base_uri": "https://localhost:8080/"
        },
        "id": "0ZFMJqSRslgk",
        "outputId": "a2b206bd-a5cc-4740-9c5b-5aa60e5fa267"
      },
      "outputs": [
        {
          "output_type": "execute_result",
          "data": {
            "text/plain": [
              "array([[1., 0., 0.],\n",
              "       [0., 1., 0.],\n",
              "       [0., 0., 1.]])"
            ]
          },
          "metadata": {},
          "execution_count": 167
        }
      ],
      "source": [
        "Z = np.eye(3)\n",
        "Z"
      ]
    },
    {
      "cell_type": "markdown",
      "metadata": {
        "_uuid": "9c3d53fd277d07937bc04838c4ca57a0aaaec498",
        "id": "867NNjbtslgk"
      },
      "source": [
        "#### 9) Create a 3x3x3 array with random values (★☆☆)"
      ]
    },
    {
      "cell_type": "code",
      "execution_count": 168,
      "metadata": {
        "_uuid": "77840458ba47b330dd84bab7a119e85299856c57",
        "tags": [],
        "colab": {
          "base_uri": "https://localhost:8080/"
        },
        "id": "0d9jqPnUslgk",
        "outputId": "0b7e0980-156b-4917-db00-c9e9b1a1dc12"
      },
      "outputs": [
        {
          "output_type": "execute_result",
          "data": {
            "text/plain": [
              "array([[[0.01260194, 0.947086  , 0.78485042],\n",
              "        [0.72362763, 0.96612245, 0.6405737 ],\n",
              "        [0.27586968, 0.14842426, 0.84553966]],\n",
              "\n",
              "       [[0.85251618, 0.00576306, 0.94558627],\n",
              "        [0.20408671, 0.50458456, 0.87774716],\n",
              "        [0.77917602, 0.37195134, 0.69428297]],\n",
              "\n",
              "       [[0.07112392, 0.52800573, 0.92756554],\n",
              "        [0.75823321, 0.20270137, 0.98526106],\n",
              "        [0.15077842, 0.68527639, 0.05039384]]])"
            ]
          },
          "metadata": {},
          "execution_count": 168
        }
      ],
      "source": [
        "Z = np.random.random((3,3,3))\n",
        "Z"
      ]
    },
    {
      "cell_type": "markdown",
      "metadata": {
        "_uuid": "886bef95cd1aa9af4133902b45b50127b5da54cb",
        "id": "zABYui_nslgl"
      },
      "source": [
        "#### 10) Create a 10x10 array with random values and find the minimum and maximum values (★☆☆)"
      ]
    },
    {
      "cell_type": "code",
      "execution_count": 169,
      "metadata": {
        "_uuid": "a8c13dc011c6afb824c3a7031330b6bd1a77e497",
        "colab": {
          "base_uri": "https://localhost:8080/"
        },
        "id": "IKur3FdEslgl",
        "outputId": "7878fd6c-2c58-4e00-ed85-c3501a285a1b"
      },
      "outputs": [
        {
          "output_type": "execute_result",
          "data": {
            "text/plain": [
              "(np.float64(0.0129021513158869), np.float64(0.9976400086894942))"
            ]
          },
          "metadata": {},
          "execution_count": 169
        }
      ],
      "source": [
        "Z = np.random.random((10,10))\n",
        "Zmin, Zmax = Z.min(), Z.max()\n",
        "Zmin, Zmax"
      ]
    },
    {
      "cell_type": "markdown",
      "metadata": {
        "_uuid": "07db1e47dcff92113a6d4c696e92a5578b20d89f",
        "id": "3DU3UVPCslgl"
      },
      "source": [
        "#### 11) Create a random vector of size 30 and find the mean, variance values (★☆☆)"
      ]
    },
    {
      "cell_type": "code",
      "execution_count": 170,
      "metadata": {
        "_uuid": "a6533f70b28d583e6e1926a0e3e668b465d6ef6c",
        "colab": {
          "base_uri": "https://localhost:8080/"
        },
        "id": "6ak6_u4Jslgl",
        "outputId": "f6d5ec4d-87fd-4171-fc5b-4e4f9b1ca1e9"
      },
      "outputs": [
        {
          "output_type": "execute_result",
          "data": {
            "text/plain": [
              "(np.float64(0.5072037747040484), np.float64(0.10165349935458376))"
            ]
          },
          "metadata": {},
          "execution_count": 170
        }
      ],
      "source": [
        "Z = np.random.random(30)\n",
        "m = Z.mean()\n",
        "v = Z.var()\n",
        "m,v"
      ]
    },
    {
      "cell_type": "markdown",
      "metadata": {
        "_uuid": "2234dffb1dffc779d1d24f269da232a560848ad0",
        "id": "I7xaHEdUslgl"
      },
      "source": [
        "#### 12) Create a 2d array with 1 on the border and 0 inside (★☆☆)"
      ]
    },
    {
      "cell_type": "code",
      "execution_count": 171,
      "metadata": {
        "_uuid": "03bef7c11ab2593768ce88331a92c0c7cc10d463",
        "colab": {
          "base_uri": "https://localhost:8080/"
        },
        "id": "7mK7jQ8nslgl",
        "outputId": "b9283d03-cbc5-4ddf-8735-af0fd42aa15a"
      },
      "outputs": [
        {
          "output_type": "execute_result",
          "data": {
            "text/plain": [
              "array([[1., 1., 1., 1., 1., 1., 1., 1., 1., 1.],\n",
              "       [1., 0., 0., 0., 0., 0., 0., 0., 0., 1.],\n",
              "       [1., 0., 0., 0., 0., 0., 0., 0., 0., 1.],\n",
              "       [1., 0., 0., 0., 0., 0., 0., 0., 0., 1.],\n",
              "       [1., 0., 0., 0., 0., 0., 0., 0., 0., 1.],\n",
              "       [1., 0., 0., 0., 0., 0., 0., 0., 0., 1.],\n",
              "       [1., 0., 0., 0., 0., 0., 0., 0., 0., 1.],\n",
              "       [1., 0., 0., 0., 0., 0., 0., 0., 0., 1.],\n",
              "       [1., 0., 0., 0., 0., 0., 0., 0., 0., 1.],\n",
              "       [1., 1., 1., 1., 1., 1., 1., 1., 1., 1.]])"
            ]
          },
          "metadata": {},
          "execution_count": 171
        }
      ],
      "source": [
        "Z = np.ones((10,10))\n",
        "Z[1:-1,1:-1] = 0\n",
        "Z\n"
      ]
    },
    {
      "cell_type": "markdown",
      "metadata": {
        "_uuid": "6e24eff853c1ead319eba0adf0efdf31a58c6944",
        "id": "ufBt3lacslgm"
      },
      "source": [
        "#### 13) How to add a border (filled with 0's) around an existing array? (★☆☆)"
      ]
    },
    {
      "cell_type": "code",
      "execution_count": 172,
      "metadata": {
        "_uuid": "573dd1238aef49fed4a9cfeb645c09119a307916",
        "colab": {
          "base_uri": "https://localhost:8080/"
        },
        "id": "mqOpacFjslgm",
        "outputId": "69fde2ac-6530-428d-f0fb-22c214d48255"
      },
      "outputs": [
        {
          "output_type": "execute_result",
          "data": {
            "text/plain": [
              "array([[0., 0., 0., 0., 0., 0., 0.],\n",
              "       [0., 1., 1., 1., 1., 1., 0.],\n",
              "       [0., 1., 1., 1., 1., 1., 0.],\n",
              "       [0., 1., 1., 1., 1., 1., 0.],\n",
              "       [0., 1., 1., 1., 1., 1., 0.],\n",
              "       [0., 1., 1., 1., 1., 1., 0.],\n",
              "       [0., 0., 0., 0., 0., 0., 0.]])"
            ]
          },
          "metadata": {},
          "execution_count": 172
        }
      ],
      "source": [
        "Z = np.ones((5,5))\n",
        "Z = np.pad(Z, pad_width=1, mode='constant', constant_values=0)\n",
        "Z\n"
      ]
    },
    {
      "cell_type": "markdown",
      "metadata": {
        "_uuid": "1f657aee797f18a40aa7a5e98362719bc73ebdee",
        "id": "f5TNPeUaslgm"
      },
      "source": [
        "#### 14) Predict (before executing) the results of the following expressions? (★☆☆)"
      ]
    },
    {
      "cell_type": "code",
      "execution_count": 173,
      "metadata": {
        "_uuid": "5bd51740ffe0b687da93acf403807897292ebbc5",
        "colab": {
          "base_uri": "https://localhost:8080/"
        },
        "id": "LMAR-IO6slgm",
        "outputId": "e3af4561-9334-45da-b273-42be7d43e111"
      },
      "outputs": [
        {
          "output_type": "stream",
          "name": "stdout",
          "text": [
            "nan\n",
            "False\n",
            "False\n",
            "nan\n",
            "True\n",
            "False\n"
          ]
        }
      ],
      "source": [
        "print(0 * np.nan)\n",
        "print(np.nan == np.nan)\n",
        "print(np.inf > np.nan)\n",
        "print(np.nan - np.nan)\n",
        "print(np.nan in set([np.nan]))\n",
        "print(0.3 == 3 * 0.1)"
      ]
    },
    {
      "cell_type": "markdown",
      "metadata": {
        "_uuid": "e22023622e0ec70b97ca378772dae42cff45d73c",
        "id": "9WU-ukW0slgn"
      },
      "source": [
        "#### 15) Create a 6×6 matrix with values 1,2,3,4,5 just below the diagonal (★☆☆)"
      ]
    },
    {
      "cell_type": "code",
      "execution_count": 174,
      "metadata": {
        "_uuid": "f1aaa690119ec31eb516c96023250ff10f2800be",
        "colab": {
          "base_uri": "https://localhost:8080/"
        },
        "id": "qcYz55twslgn",
        "outputId": "7b7af47c-5327-42f8-8635-649cf931a2c4"
      },
      "outputs": [
        {
          "output_type": "execute_result",
          "data": {
            "text/plain": [
              "array([[1, 0, 0, 0, 0],\n",
              "       [0, 2, 0, 0, 0],\n",
              "       [0, 0, 3, 0, 0],\n",
              "       [0, 0, 0, 4, 0],\n",
              "       [0, 0, 0, 0, 5]])"
            ]
          },
          "metadata": {},
          "execution_count": 174
        }
      ],
      "source": [
        "Z = np.diag(1+np.arange(5))\n",
        "#Z = np.diag(1+np.arange(5),k=-1)\n",
        "Z"
      ]
    },
    {
      "cell_type": "markdown",
      "metadata": {
        "_uuid": "2e1e85761e1eafa4cd8986a3aa28763f2b8197e2",
        "id": "fndMDrUKslgn"
      },
      "source": [
        "#### 16) Create a 8x8 matrix and fill it with a checkerboard (0,1) pattern (★☆☆)"
      ]
    },
    {
      "cell_type": "code",
      "execution_count": 175,
      "metadata": {
        "_uuid": "467504e8796a218a3faa0a787775d8aa577f4c32",
        "colab": {
          "base_uri": "https://localhost:8080/"
        },
        "id": "kWW9xTBDslgn",
        "outputId": "20f00bb4-3a0b-4c92-bfe4-d372a0700b88"
      },
      "outputs": [
        {
          "output_type": "execute_result",
          "data": {
            "text/plain": [
              "array([[0, 1, 0, 1, 0, 1, 0, 1],\n",
              "       [1, 0, 1, 0, 1, 0, 1, 0],\n",
              "       [0, 1, 0, 1, 0, 1, 0, 1],\n",
              "       [1, 0, 1, 0, 1, 0, 1, 0],\n",
              "       [0, 1, 0, 1, 0, 1, 0, 1],\n",
              "       [1, 0, 1, 0, 1, 0, 1, 0],\n",
              "       [0, 1, 0, 1, 0, 1, 0, 1],\n",
              "       [1, 0, 1, 0, 1, 0, 1, 0]])"
            ]
          },
          "metadata": {},
          "execution_count": 175
        }
      ],
      "source": [
        "#Z = np.zeros((8,8),dtype=int)\n",
        "Z = np.tile( np.array([[0,1],[1,0]]), (4,4))\n",
        "Z"
      ]
    },
    {
      "cell_type": "markdown",
      "metadata": {
        "_uuid": "87e644b2696a16879dcf96b35b17a48db550cd04",
        "id": "Hy0OCYfVslgn"
      },
      "source": [
        "#### 17) Consider a (5,6,7) shape array, what is the index (x, y, z) of the 50th element?"
      ]
    },
    {
      "cell_type": "code",
      "execution_count": 176,
      "metadata": {
        "_uuid": "eabdb2c5e23366c763f0cc39939ee68866c3f111",
        "colab": {
          "base_uri": "https://localhost:8080/"
        },
        "id": "0FGAbPpBslgo",
        "outputId": "58ab20c0-eabe-4ca9-e99e-7c78bda92547"
      },
      "outputs": [
        {
          "output_type": "execute_result",
          "data": {
            "text/plain": [
              "(np.int64(1), np.int64(1), np.int64(1))"
            ]
          },
          "metadata": {},
          "execution_count": 176
        }
      ],
      "source": [
        "x = np.unravel_index(50, (5,6,7))\n",
        "x\n",
        "# 1 ,1 ,1"
      ]
    },
    {
      "cell_type": "markdown",
      "metadata": {
        "_uuid": "659926bf5bf80842361a658fd0f84bf24084fbf3",
        "id": "pFYYZtnZslgo"
      },
      "source": [
        "#### 18) Multiply a 4x2 matrix by a 2x3 matrix (real matrix product) (★☆☆)"
      ]
    },
    {
      "cell_type": "code",
      "execution_count": 177,
      "metadata": {
        "_uuid": "8be73ba1bd9778d487ac20ef5658c7b8e57c3d67",
        "colab": {
          "base_uri": "https://localhost:8080/"
        },
        "id": "VwIZ4PHgslgo",
        "outputId": "1b74547a-6ac6-49b2-f72d-9b450ad7e025"
      },
      "outputs": [
        {
          "output_type": "execute_result",
          "data": {
            "text/plain": [
              "array([[ 8,  5,  4],\n",
              "       [20, 11, 10],\n",
              "       [32, 17, 16],\n",
              "       [44, 23, 22]])"
            ]
          },
          "metadata": {},
          "execution_count": 177
        }
      ],
      "source": [
        "a = [[1, 2],[3, 4], [5,6], [7,8]]\n",
        "\n",
        "b = [[4, 1, 2], [2, 2, 1]]\n",
        "\n",
        "np.dot(a, b)"
      ]
    },
    {
      "cell_type": "markdown",
      "metadata": {
        "_uuid": "0a65567844ac53a18dbb387a8694da2b1c78294a",
        "id": "aehfZnzoslgo"
      },
      "source": [
        "#### 19) Given a 1D array, negate all elements which are between 3 and 8, in place. (★☆☆)"
      ]
    },
    {
      "cell_type": "code",
      "execution_count": 178,
      "metadata": {
        "_uuid": "d48512adb16f06371f651dd8dc1ae9ea1c3586b1",
        "colab": {
          "base_uri": "https://localhost:8080/"
        },
        "id": "vwm7-zvlslgo",
        "outputId": "71538796-2edb-4ede-c22a-2e22035a69ed"
      },
      "outputs": [
        {
          "output_type": "execute_result",
          "data": {
            "text/plain": [
              "array([ 0,  1,  2,  3, -4, -5, -6, -7,  8,  9, 10])"
            ]
          },
          "metadata": {},
          "execution_count": 178
        }
      ],
      "source": [
        "# Author: Evgeni Burovski\n",
        "\n",
        "Z = np.arange(11)\n",
        "Z[(3 < Z) & (Z < 8)] *= -1\n",
        "Z"
      ]
    },
    {
      "cell_type": "markdown",
      "metadata": {
        "_uuid": "e49ca0d2249b4a5cf25b264e42c6feb3057889ed",
        "id": "jhHTfSmOslgp"
      },
      "source": [
        "#### 20. How to find common values between two arrays? (★☆☆)"
      ]
    },
    {
      "cell_type": "code",
      "execution_count": 179,
      "metadata": {
        "_uuid": "b7a1b2802e4c4a2ac5baf737e2065c55bef226b6",
        "colab": {
          "base_uri": "https://localhost:8080/"
        },
        "id": "Wrd3Qm0Fslgp",
        "outputId": "4a71eb72-70c4-4944-dab4-48aaac5c4e59"
      },
      "outputs": [
        {
          "output_type": "execute_result",
          "data": {
            "text/plain": [
              "array([1, 4])"
            ]
          },
          "metadata": {},
          "execution_count": 179
        }
      ],
      "source": [
        "Z1 = np.random.randint(0,10,10)\n",
        "Z2 = np.random.randint(0,10,10)\n",
        "Z = np.intersect1d(Z1,Z2)\n",
        "Z\n",
        "\n",
        "#Method 2\n",
        "#common_values = [val for val in np.unique(Z1) if val in Z2]  # Using list comprehension\n",
        "#Z = np.array(common_values) #converting to numpy array"
      ]
    },
    {
      "cell_type": "markdown",
      "metadata": {
        "_uuid": "9e2512ad8b29d3599cababc7009febce91929869",
        "id": "jc4eAVDPslgp"
      },
      "source": [
        "#### 21) How to compute ((A+B)\\*(-A/2)) in place (without copy)? (★★☆)"
      ]
    },
    {
      "cell_type": "code",
      "execution_count": 180,
      "metadata": {
        "_uuid": "4fb34450b8dfabe74d9e411ec45c717e15a0efcd",
        "colab": {
          "base_uri": "https://localhost:8080/"
        },
        "id": "zV8xJCfLslgp",
        "outputId": "a73015b8-55f4-4df8-eb95-2ff9bd427685"
      },
      "outputs": [
        {
          "output_type": "stream",
          "name": "stdout",
          "text": [
            "[-1.5 -1.5 -1.5]\n"
          ]
        }
      ],
      "source": [
        "A = np.ones(3)*1\n",
        "B = np.ones(3)*2\n",
        "C = np.ones(3)*3\n",
        "\n",
        "\n",
        "np.add(A,B,out=B)\n",
        "np.divide(A,2,out=A)\n",
        "np.negative(A,out=A)\n",
        "np.multiply(A,B,out=A)\n",
        "\n",
        "print(A)"
      ]
    },
    {
      "cell_type": "markdown",
      "metadata": {
        "_uuid": "861564e1209df602ba9acf76b21764166d941f64",
        "id": "dlhS4HI7slgp"
      },
      "source": [
        "#### 22) Extract the integer part of a random array (★★☆)"
      ]
    },
    {
      "cell_type": "code",
      "execution_count": 181,
      "metadata": {
        "_uuid": "26071c39ddc28c65fe06329b480504455890609e",
        "colab": {
          "base_uri": "https://localhost:8080/"
        },
        "id": "wxLZj194slgp",
        "outputId": "e98c0ddf-be66-4bfc-b66d-cb03faa247c3"
      },
      "outputs": [
        {
          "output_type": "execute_result",
          "data": {
            "text/plain": [
              "array([4, 3, 0, 4, 9, 0, 2, 4, 6, 3])"
            ]
          },
          "metadata": {},
          "execution_count": 181
        }
      ],
      "source": [
        "Z = np.random.uniform(0,10,10)\n",
        "Z = Z.astype(int)\n",
        "Z\n"
      ]
    },
    {
      "cell_type": "markdown",
      "metadata": {
        "_uuid": "1acff22fb998865b58d5a9b37b0a5ce5b7f13387",
        "id": "2pbwU2X8slgq"
      },
      "source": [
        "#### 23) Create a 5x5 matrix with row values ranging from 0 to 4 (★★☆)"
      ]
    },
    {
      "cell_type": "code",
      "execution_count": 182,
      "metadata": {
        "_uuid": "728c78dc7d9477e3300f58d589fbbc888df3cecb",
        "colab": {
          "base_uri": "https://localhost:8080/"
        },
        "id": "CuqKMfHjslgq",
        "outputId": "a337c9ee-0e40-4611-e480-c99e3fae3321"
      },
      "outputs": [
        {
          "output_type": "execute_result",
          "data": {
            "text/plain": [
              "array([[0., 0., 0., 0., 0.],\n",
              "       [1., 1., 1., 1., 1.],\n",
              "       [2., 2., 2., 2., 2.],\n",
              "       [3., 3., 3., 3., 3.],\n",
              "       [4., 4., 4., 4., 4.]])"
            ]
          },
          "metadata": {},
          "execution_count": 182
        }
      ],
      "source": [
        "Z = np.zeros((5,5))\n",
        "for i in range(5):\n",
        "    Z[i] = i\n",
        "Z"
      ]
    },
    {
      "cell_type": "markdown",
      "metadata": {
        "_uuid": "dd54ec03c8ce814c994611575b49cd2e14b4071a",
        "id": "ZdXgOeJgslgq"
      },
      "source": [
        "#### 24) Consider a generator function that generates 10 integers and use it to build an array (★☆☆)"
      ]
    },
    {
      "cell_type": "code",
      "execution_count": 183,
      "metadata": {
        "_uuid": "229a68e06163a294e63f0b377aa697aa8c925cb2",
        "colab": {
          "base_uri": "https://localhost:8080/"
        },
        "id": "Uobr0k8_slgq",
        "outputId": "26ad8433-7248-46aa-ccde-bd8755a6d9ec"
      },
      "outputs": [
        {
          "output_type": "execute_result",
          "data": {
            "text/plain": [
              "array([5, 7, 8, 8, 7, 5, 3, 5, 6, 8])"
            ]
          },
          "metadata": {},
          "execution_count": 183
        }
      ],
      "source": [
        "Z = np.random.randint(0,10,10)\n",
        "Z"
      ]
    },
    {
      "cell_type": "markdown",
      "metadata": {
        "_uuid": "c52ceff787ef50f22325107cb5f5b1bfac61858f",
        "id": "5UgYfqRPslgr"
      },
      "source": [
        "#### 25) Create a vector of size 10 with values ranging from 0 to 1, both excluded (★★☆)"
      ]
    },
    {
      "cell_type": "code",
      "execution_count": 184,
      "metadata": {
        "_uuid": "bcdb9a3b3a6a47768f53ea8e25b70070566c87eb",
        "colab": {
          "base_uri": "https://localhost:8080/"
        },
        "id": "BMKHJXquslgr",
        "outputId": "740a1f46-21e4-4e2c-a19d-311103f13126"
      },
      "outputs": [
        {
          "output_type": "execute_result",
          "data": {
            "text/plain": [
              "array([0.1, 0.2, 0.3, 0.4, 0.5, 0.6, 0.7, 0.8, 0.9])"
            ]
          },
          "metadata": {},
          "execution_count": 184
        }
      ],
      "source": [
        "Z = np.linspace(0,1,11)[1:-1]\n",
        "Z"
      ]
    },
    {
      "cell_type": "markdown",
      "metadata": {
        "_uuid": "34f5d6e2e269678714f1e5aafec8a92d6411ecd3",
        "id": "coNvCOs5slgr"
      },
      "source": [
        "#### 26) Create a random vector of size 10 and sort it (★★☆)"
      ]
    },
    {
      "cell_type": "code",
      "execution_count": 185,
      "metadata": {
        "_uuid": "650bd640404dd8cfdbeb0d91b8fc5ea844ee60a8",
        "colab": {
          "base_uri": "https://localhost:8080/"
        },
        "id": "NnAzf3V-slgr",
        "outputId": "1be59ae9-531f-41f4-e31d-7f98f0fc0e0d"
      },
      "outputs": [
        {
          "output_type": "execute_result",
          "data": {
            "text/plain": [
              "array([0.15312314, 0.17680867, 0.23882767, 0.33296535, 0.41345203,\n",
              "       0.43555121, 0.53496396, 0.62184174, 0.85324292, 0.90039214])"
            ]
          },
          "metadata": {},
          "execution_count": 185
        }
      ],
      "source": [
        "np.sort(np.random.random(10))"
      ]
    },
    {
      "cell_type": "markdown",
      "metadata": {
        "_uuid": "0502011982ec9de8f998bdcc76ff2d00dc9bad6e",
        "id": "FpQX6nfhslgr"
      },
      "source": [
        "#### 27) Consider two random array A and B, check if they are equal (★★☆)"
      ]
    },
    {
      "cell_type": "code",
      "execution_count": 186,
      "metadata": {
        "_uuid": "bc542c3112954260eac0bcf08bc8b0ae2ce0ae33",
        "colab": {
          "base_uri": "https://localhost:8080/"
        },
        "id": "UHzA5zEBslgr",
        "outputId": "b067aa1d-6392-4812-fe65-b9a952934d2b"
      },
      "outputs": [
        {
          "output_type": "execute_result",
          "data": {
            "text/plain": [
              "False"
            ]
          },
          "metadata": {},
          "execution_count": 186
        }
      ],
      "source": [
        "A = np.random.randint(0,2,5)\n",
        "B = np.random.randint(0,2,5)\n",
        "\n",
        "np.array_equal(A,B)\n"
      ]
    },
    {
      "cell_type": "markdown",
      "metadata": {
        "_uuid": "100623c44dc702d6ac2ac5d35b4e5173c906f317",
        "id": "jB3nLa4hslgs"
      },
      "source": [
        "#### 28) Make an array immutable (read-only) (★★☆)"
      ]
    },
    {
      "cell_type": "code",
      "execution_count": 187,
      "metadata": {
        "_uuid": "14189438d83341e3e1f92c6a2ced78eefe330569",
        "id": "ofH5htyoslgs"
      },
      "outputs": [],
      "source": [
        "Z = np.zeros(10)\n",
        "Z.flags.writeable = False\n",
        "#Z[0] = 1"
      ]
    },
    {
      "cell_type": "markdown",
      "metadata": {
        "_uuid": "353f854c6c99f2889b0d31cc69bc1fd7fccd0fe1",
        "id": "PeSQ8e9Islgs"
      },
      "source": [
        "#### 29) Create random vector of size 10 and replace the maximum value by 0 (★★☆)"
      ]
    },
    {
      "cell_type": "code",
      "execution_count": 235,
      "metadata": {
        "_uuid": "fd9c6de99887f58497e8880f38b8aab24beaef6a",
        "colab": {
          "base_uri": "https://localhost:8080/"
        },
        "id": "cQt813peslgs",
        "outputId": "9ce71609-c608-4f0e-bcb1-f15a3470bfc1"
      },
      "outputs": [
        {
          "output_type": "execute_result",
          "data": {
            "text/plain": [
              "array([0.25934471, 0.        , 0.65673525, 0.36961197, 0.3958432 ,\n",
              "       0.4371095 , 0.07064477, 0.00470697, 0.77869013, 0.63538439])"
            ]
          },
          "metadata": {},
          "execution_count": 235
        }
      ],
      "source": [
        "Z = np.random.random(10)\n",
        "Z = np.where(Z == Z.max(), 0, Z)\n",
        "Z"
      ]
    },
    {
      "cell_type": "markdown",
      "metadata": {
        "_uuid": "35b4e9307a72301c43b077924e4674cdee69fdf0",
        "id": "_zdNLxteslgs"
      },
      "source": [
        "#### 30) How to convert a float (32 bits) array into an integer (32 bits) in place?"
      ]
    },
    {
      "cell_type": "code",
      "execution_count": 251,
      "metadata": {
        "_uuid": "c67695d2efff4f63dbe4037694504a84deb8d4b9",
        "colab": {
          "base_uri": "https://localhost:8080/"
        },
        "id": "fKB2d9Irslgs",
        "outputId": "62716a71-7ff2-47aa-9c41-a8ca9d244dfc"
      },
      "outputs": [
        {
          "output_type": "execute_result",
          "data": {
            "text/plain": [
              "array([0, 1, 2, 3, 4, 5, 6, 7, 8, 9], dtype=int32)"
            ]
          },
          "metadata": {},
          "execution_count": 251
        }
      ],
      "source": [
        "Z = np.arange(10, dtype=np.float32)\n",
        "Z = Z.astype(np.int32, copy=False)\n",
        "Z"
      ]
    },
    {
      "cell_type": "markdown",
      "metadata": {
        "_uuid": "389113b4e22ac2f5454686a38fa9f4e2500e4c52",
        "id": "o3FJc4XHslgt"
      },
      "source": [
        "#### 31) randomly place 3 elements in a 2D array? (★★☆)"
      ]
    },
    {
      "cell_type": "code",
      "execution_count": 190,
      "metadata": {
        "_uuid": "442c3c5664c0d9dbbe7149a0924e47c4a9699097",
        "colab": {
          "base_uri": "https://localhost:8080/"
        },
        "id": "c3B6KATJslgt",
        "outputId": "48a9eb07-2fef-49c7-8390-1627b11e270e"
      },
      "outputs": [
        {
          "output_type": "execute_result",
          "data": {
            "text/plain": [
              "array([[0., 0., 0., 0., 0., 0., 0., 0., 0., 0.],\n",
              "       [0., 0., 0., 0., 0., 0., 0., 0., 0., 0.],\n",
              "       [1., 0., 0., 0., 0., 0., 0., 0., 0., 0.],\n",
              "       [0., 0., 0., 0., 0., 0., 0., 0., 0., 0.],\n",
              "       [0., 0., 0., 0., 0., 0., 0., 0., 0., 0.],\n",
              "       [0., 0., 0., 0., 0., 0., 0., 0., 1., 0.],\n",
              "       [0., 1., 0., 0., 0., 0., 0., 0., 0., 0.],\n",
              "       [0., 0., 0., 0., 0., 0., 0., 0., 0., 0.],\n",
              "       [0., 0., 0., 0., 0., 0., 0., 0., 0., 0.],\n",
              "       [0., 0., 0., 0., 0., 0., 0., 0., 0., 0.]])"
            ]
          },
          "metadata": {},
          "execution_count": 190
        }
      ],
      "source": [
        "n = 10\n",
        "p = 3\n",
        "Z = np.zeros((n,n))\n",
        "np.put(Z, np.random.choice(range(n*n), 3), 1)\n",
        "\n",
        "\n",
        "Z"
      ]
    },
    {
      "cell_type": "markdown",
      "metadata": {
        "_uuid": "ad23d8b28a5016197192b4a6ecdfa61d3c54f49f",
        "id": "NA9n9o9Bslgt"
      },
      "source": [
        "#### 32) Subtract the mean of each row of a matrix (★★☆)"
      ]
    },
    {
      "cell_type": "code",
      "execution_count": 254,
      "metadata": {
        "_uuid": "62937a93af1f4bd2ee201a0a28d92ad2e39aeadf",
        "colab": {
          "base_uri": "https://localhost:8080/"
        },
        "id": "ZXH6coSQslgt",
        "outputId": "7eadb6e7-ae33-4e2a-fed4-87ef6555e5a2"
      },
      "outputs": [
        {
          "output_type": "execute_result",
          "data": {
            "text/plain": [
              "array([[ 0.28860875, -0.50455622, -0.45375012,  0.10579014, -0.10475596,\n",
              "        -0.11903223,  0.4042811 ,  0.26527344,  0.13270092, -0.01455983],\n",
              "       [-0.11140181,  0.17597982,  0.31013936,  0.30168736, -0.4836145 ,\n",
              "        -0.12659447,  0.2523414 , -0.29256827,  0.19339108, -0.21935998],\n",
              "       [-0.36151412, -0.54652196, -0.04692884,  0.22972042,  0.40736638,\n",
              "        -0.45673752,  0.38447001,  0.36259693,  0.27043954, -0.24289085],\n",
              "       [ 0.198087  , -0.20231516,  0.14100954, -0.24060492,  0.32954425,\n",
              "        -0.21462919,  0.23450208, -0.27078672,  0.25349273, -0.22829961],\n",
              "       [ 0.18367698, -0.32815103, -0.28835245, -0.27807807, -0.03188253,\n",
              "         0.27142745,  0.4301862 ,  0.3510222 , -0.32361267,  0.0137639 ]])"
            ]
          },
          "metadata": {},
          "execution_count": 254
        }
      ],
      "source": [
        "X = np.random.rand(5, 10)\n",
        "X = X - X.mean(axis=1, keepdims=True)\n",
        "X\n"
      ]
    },
    {
      "cell_type": "markdown",
      "metadata": {
        "_uuid": "6dfaee28f6ffc182b31d95b2dd7db135b3cda134",
        "id": "qlTE3GqAslgu"
      },
      "source": [
        "#### 33) sort an array by the 1st column? (★★☆)"
      ]
    },
    {
      "cell_type": "code",
      "execution_count": 263,
      "metadata": {
        "_uuid": "6d6526eff2206d6766e34a8a9d4aa45222304ecc",
        "colab": {
          "base_uri": "https://localhost:8080/"
        },
        "id": "yp-tQo9xslgu",
        "outputId": "60eb13d4-1bca-4e6f-dcda-51cd7593c44d"
      },
      "outputs": [
        {
          "output_type": "execute_result",
          "data": {
            "text/plain": [
              "array([[0, 2, 1],\n",
              "       [7, 6, 7],\n",
              "       [9, 7, 4]])"
            ]
          },
          "metadata": {},
          "execution_count": 263
        }
      ],
      "source": [
        "Z = np.random.randint(0,10,(3,3))\n",
        "Z = Z[Z[:,0].argsort()]\n",
        "Z"
      ]
    },
    {
      "cell_type": "markdown",
      "metadata": {
        "_uuid": "c446326eba80f10ee44e69c38975a02b76272c66",
        "id": "rdtUFOoGslgu"
      },
      "source": [
        "#### 34) Find the nearest value from a given value z in an array Z(★★☆)"
      ]
    },
    {
      "cell_type": "code",
      "execution_count": 265,
      "metadata": {
        "_uuid": "475de3550f77c7407940a0b31eeb5016286445c4",
        "colab": {
          "base_uri": "https://localhost:8080/"
        },
        "id": "GWoOOtFMslgu",
        "outputId": "b84d4799-200d-4044-c0fb-1b0004feb53a"
      },
      "outputs": [
        {
          "output_type": "execute_result",
          "data": {
            "text/plain": [
              "np.float64(0.4863956857928725)"
            ]
          },
          "metadata": {},
          "execution_count": 265
        }
      ],
      "source": [
        "Z = np.random.uniform(0,1,10)\n",
        "z = 0.5\n",
        "Z = Z[np.abs(Z - z).argmin()]\n",
        "Z"
      ]
    },
    {
      "cell_type": "markdown",
      "metadata": {
        "_uuid": "ed78b6480e33d62936d0454ef9757390456a37e8",
        "id": "9NuN3Lsmslgv"
      },
      "source": [
        "#### 35) Considering two arrays with shape (1,3) and (3,1): to compute their sum using an iterator (★★☆)"
      ]
    },
    {
      "cell_type": "code",
      "execution_count": 266,
      "metadata": {
        "_uuid": "59b473c6731410e9a83cbf30b56fc6463c4ee8a4",
        "colab": {
          "base_uri": "https://localhost:8080/"
        },
        "id": "GICapHTBslgv",
        "outputId": "5e0d02d4-addf-499f-8465-da911d47cf92"
      },
      "outputs": [
        {
          "output_type": "stream",
          "name": "stdout",
          "text": [
            "[[0 1 2]\n",
            " [1 2 3]\n",
            " [2 3 4]]\n"
          ]
        }
      ],
      "source": [
        "A = np.arange(3).reshape(3,1)\n",
        "B = np.arange(3).reshape(1,3)\n",
        "it = np.nditer([A,B,None])\n",
        "for x,y,z in it: z[...] = x + y\n",
        "print(it.operands[2])"
      ]
    },
    {
      "cell_type": "markdown",
      "metadata": {
        "_uuid": "24b86507600d4f283f09b3117a0b9266446e5b98",
        "id": "K-Xaaz7Vslgv"
      },
      "source": [
        "#### 36) find the most frequent value in an array"
      ]
    },
    {
      "cell_type": "code",
      "execution_count": 270,
      "metadata": {
        "_uuid": "bc112b94dc08691f315afb878bdd2c52cbb4c3bc",
        "colab": {
          "base_uri": "https://localhost:8080/"
        },
        "id": "VIspzUg5slgv",
        "outputId": "1bfa1479-8a25-4c2c-c4a1-b95f187f057f"
      },
      "outputs": [
        {
          "output_type": "stream",
          "name": "stdout",
          "text": [
            "0\n"
          ]
        }
      ],
      "source": [
        "Z = np.random.randint(0,10,50)\n",
        "print(np.bincount(Z).argmax())"
      ]
    },
    {
      "cell_type": "markdown",
      "metadata": {
        "_uuid": "c5a8dd39a51cf4dbe37653e3d6131d06ac7a449c",
        "id": "upPqvPIDslgv"
      },
      "source": [
        "#### 37) Given a two dimensional array, extract unique rows (★★★)"
      ]
    },
    {
      "cell_type": "code",
      "execution_count": 288,
      "metadata": {
        "colab": {
          "base_uri": "https://localhost:8080/"
        },
        "id": "AFaDxo9yslgw",
        "outputId": "1e771730-36f1-4b39-8402-b931c07dbe86"
      },
      "outputs": [
        {
          "output_type": "execute_result",
          "data": {
            "text/plain": [
              "array([[0, 0, 1],\n",
              "       [0, 1, 1],\n",
              "       [1, 0, 0],\n",
              "       [1, 0, 1],\n",
              "       [1, 1, 1]])"
            ]
          },
          "metadata": {},
          "execution_count": 288
        }
      ],
      "source": [
        "Z = np.random.randint(0,2,(6,3))\n",
        "np.unique(Z, axis=0)"
      ]
    }
  ],
  "metadata": {
    "kernelspec": {
      "display_name": "Python 3 (ipykernel)",
      "language": "python",
      "name": "python3"
    },
    "language_info": {
      "codemirror_mode": {
        "name": "ipython",
        "version": 3
      },
      "file_extension": ".py",
      "mimetype": "text/x-python",
      "name": "python",
      "nbconvert_exporter": "python",
      "pygments_lexer": "ipython3",
      "version": "3.11.0"
    },
    "colab": {
      "provenance": []
    }
  },
  "nbformat": 4,
  "nbformat_minor": 0
}