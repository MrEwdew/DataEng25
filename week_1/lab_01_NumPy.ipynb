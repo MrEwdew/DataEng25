{
  "cells": [
    {
      "cell_type": "markdown",
      "metadata": {
        "id": "wiRXRamThQkz"
      },
      "source": [
        "# Recalling Numpy Array Slicing and Indexing"
      ]
    },
    {
      "cell_type": "code",
      "execution_count": 153,
      "metadata": {
        "id": "dK-KPY2PhQk1"
      },
      "outputs": [],
      "source": [
        "import numpy as np"
      ]
    },
    {
      "cell_type": "code",
      "execution_count": 154,
      "metadata": {
        "id": "KCXOwMyvhQk2"
      },
      "outputs": [],
      "source": [
        "#create array\n",
        "x = np.asarray(range(1,26), np.int8).reshape(5,5)"
      ]
    },
    {
      "cell_type": "code",
      "execution_count": 155,
      "metadata": {
        "id": "AKVnqE6uhQk3",
        "outputId": "1b41a90c-23e4-4445-854a-ae8a97caf5cf",
        "colab": {
          "base_uri": "https://localhost:8080/"
        }
      },
      "outputs": [
        {
          "output_type": "execute_result",
          "data": {
            "text/plain": [
              "array([[ 1,  2,  3,  4,  5],\n",
              "       [ 6,  7,  8,  9, 10],\n",
              "       [11, 12, 13, 14, 15],\n",
              "       [16, 17, 18, 19, 20],\n",
              "       [21, 22, 23, 24, 25]], dtype=int8)"
            ]
          },
          "metadata": {},
          "execution_count": 155
        }
      ],
      "source": [
        "x"
      ]
    },
    {
      "cell_type": "markdown",
      "metadata": {
        "id": "d2-s9gqnhQk4"
      },
      "source": [
        "## Slice first 3 elements\n",
        "\n",
        "<img src=\"https://github.com/MrEwdew/DataEng25/blob/main/week_1/IMG/np01.png?raw=1\">"
      ]
    },
    {
      "cell_type": "code",
      "execution_count": 156,
      "metadata": {
        "id": "ZRGH6Fe2hQk4",
        "outputId": "a0f0634a-7cb7-4d4b-d9e6-f45e7dad096c",
        "colab": {
          "base_uri": "https://localhost:8080/"
        }
      },
      "outputs": [
        {
          "output_type": "execute_result",
          "data": {
            "text/plain": [
              "array([1, 2, 3], dtype=int8)"
            ]
          },
          "metadata": {},
          "execution_count": 156
        }
      ],
      "source": [
        "\n",
        "x[0][:3]"
      ]
    },
    {
      "cell_type": "markdown",
      "metadata": {
        "id": "h2pZrNJEhQk5"
      },
      "source": [
        "##  Slice first 8 elements\n",
        "\n",
        "<img src=\"https://github.com/MrEwdew/DataEng25/blob/main/week_1/IMG/np02.png?raw=1\">"
      ]
    },
    {
      "cell_type": "code",
      "execution_count": 157,
      "metadata": {
        "id": "vgEnle1PhQk5",
        "outputId": "5e8d2cca-49bc-425d-bd44-44bacd5ce715",
        "colab": {
          "base_uri": "https://localhost:8080/"
        }
      },
      "outputs": [
        {
          "output_type": "execute_result",
          "data": {
            "text/plain": [
              "array([1, 2, 3, 4, 5, 6, 7, 8], dtype=int8)"
            ]
          },
          "metadata": {},
          "execution_count": 157
        }
      ],
      "source": [
        "x.flatten()[:8]"
      ]
    },
    {
      "cell_type": "markdown",
      "metadata": {
        "id": "HsGh_0JmhQk6"
      },
      "source": [
        "## Skip every other element\n",
        "\n",
        "<img src=\"https://github.com/MrEwdew/DataEng25/blob/main/week_1/IMG/np03.png?raw=1\">"
      ]
    },
    {
      "cell_type": "code",
      "execution_count": 158,
      "metadata": {
        "id": "_PXAGOO0hQk6",
        "outputId": "87d2a11c-184e-453e-801f-2dfc86390d57",
        "colab": {
          "base_uri": "https://localhost:8080/"
        }
      },
      "outputs": [
        {
          "output_type": "execute_result",
          "data": {
            "text/plain": [
              "array([1, 3, 5], dtype=int8)"
            ]
          },
          "metadata": {},
          "execution_count": 158
        }
      ],
      "source": [
        "x.flatten()[:5:2]"
      ]
    },
    {
      "cell_type": "markdown",
      "metadata": {
        "id": "kCN2T6BShQk6"
      },
      "source": [
        "## Slice first column\n",
        "\n",
        "<img src=\"https://github.com/MrEwdew/DataEng25/blob/main/week_1/IMG/np04.png?raw=1\">"
      ]
    },
    {
      "cell_type": "code",
      "execution_count": 159,
      "metadata": {
        "id": "LFXrCrjUhQk7",
        "outputId": "dae03733-fa1b-40c9-b69e-c663cdcadda1",
        "colab": {
          "base_uri": "https://localhost:8080/"
        }
      },
      "outputs": [
        {
          "output_type": "execute_result",
          "data": {
            "text/plain": [
              "array([ 1,  6, 11, 16], dtype=int8)"
            ]
          },
          "metadata": {},
          "execution_count": 159
        }
      ],
      "source": [
        "x[:4,0]"
      ]
    },
    {
      "cell_type": "markdown",
      "metadata": {
        "id": "rrLYqJ5jhQk7"
      },
      "source": [
        "## Slice a diagonal\n",
        "\n",
        "<img src=\"https://github.com/MrEwdew/DataEng25/blob/main/week_1/IMG/np05.png?raw=1\">"
      ]
    },
    {
      "cell_type": "code",
      "execution_count": 160,
      "metadata": {
        "id": "ZhTl4pYIhQk7",
        "outputId": "5afa8c9d-2f0f-4e27-9b90-b201c683ecd8",
        "colab": {
          "base_uri": "https://localhost:8080/"
        }
      },
      "outputs": [
        {
          "output_type": "execute_result",
          "data": {
            "text/plain": [
              "array([ 1,  7, 13, 19, 25], dtype=int8)"
            ]
          },
          "metadata": {},
          "execution_count": 160
        }
      ],
      "source": [
        "np.diag(x)"
      ]
    },
    {
      "cell_type": "markdown",
      "metadata": {
        "id": "3_gx6Q1OhQk8"
      },
      "source": [
        "## Repeat the first element\n",
        "\n",
        "<img src=\"https://github.com/MrEwdew/DataEng25/blob/main/week_1/IMG/np06.png?raw=1\">"
      ]
    },
    {
      "cell_type": "code",
      "execution_count": 161,
      "metadata": {
        "id": "_z106GmPhQk8",
        "outputId": "f1f8144d-89af-44d7-db2f-9a9f8957b107",
        "colab": {
          "base_uri": "https://localhost:8080/"
        }
      },
      "outputs": [
        {
          "output_type": "execute_result",
          "data": {
            "text/plain": [
              "array([1, 1, 1, 1, 1], dtype=int8)"
            ]
          },
          "metadata": {},
          "execution_count": 161
        }
      ],
      "source": [
        "np.repeat(x[0][0],5)"
      ]
    },
    {
      "cell_type": "markdown",
      "metadata": {
        "id": "D2WWmDvJhQk8"
      },
      "source": [
        "## Simple 2D slicing\n",
        "\n",
        "<img src=\"https://github.com/MrEwdew/DataEng25/blob/main/week_1/IMG/np07.png?raw=1\">"
      ]
    },
    {
      "cell_type": "code",
      "execution_count": 162,
      "metadata": {
        "id": "kl8oWNsDhQk8",
        "outputId": "bbfecea3-ab37-4fe7-b07c-a789d59b79b6",
        "colab": {
          "base_uri": "https://localhost:8080/"
        }
      },
      "outputs": [
        {
          "output_type": "execute_result",
          "data": {
            "text/plain": [
              "array([[ 1,  2,  3,  4],\n",
              "       [ 6,  7,  8,  9],\n",
              "       [11, 12, 13, 14]], dtype=int8)"
            ]
          },
          "metadata": {},
          "execution_count": 162
        }
      ],
      "source": [
        "#np.indices()\n",
        "x[:3,:4]"
      ]
    },
    {
      "cell_type": "markdown",
      "metadata": {
        "id": "2tLlViaohQk8"
      },
      "source": [
        "## Slice a zigzag\n",
        "\n",
        "<img src=\"https://github.com/MrEwdew/DataEng25/blob/main/week_1/IMG/np08.png?raw=1\">"
      ]
    },
    {
      "cell_type": "code",
      "execution_count": 178,
      "metadata": {
        "id": "l_Lz049xhQk9",
        "outputId": "c6d983ca-37f0-414d-99c9-79020c63f43c",
        "colab": {
          "base_uri": "https://localhost:8080/"
        }
      },
      "outputs": [
        {
          "output_type": "execute_result",
          "data": {
            "text/plain": [
              "array([[ 1,  2],\n",
              "       [ 7,  8],\n",
              "       [13, 14],\n",
              "       [19, 20]], dtype=int8)"
            ]
          },
          "metadata": {},
          "execution_count": 178
        }
      ],
      "source": [
        "np.concat((np.diagonal(x[:4],0).reshape(4,1),np.diagonal(x,1).reshape(4,1)),axis=1)"
      ]
    },
    {
      "cell_type": "markdown",
      "metadata": {
        "id": "kaJU8B9ihQk9"
      },
      "source": [
        "## Sparse slicing\n",
        "\n",
        "<img src=\"https://github.com/MrEwdew/DataEng25/blob/main/week_1/IMG/np09.png?raw=1\">"
      ]
    },
    {
      "cell_type": "code",
      "execution_count": null,
      "metadata": {
        "id": "juxB6s5ghQk9"
      },
      "outputs": [],
      "source": [
        "x[::2,::2]"
      ]
    },
    {
      "cell_type": "markdown",
      "metadata": {
        "id": "py0qgqq7hQk9"
      },
      "source": [
        "## Transpose a 2D array\n",
        "\n",
        "<img src=\"https://github.com/MrEwdew/DataEng25/blob/main/week_1/IMG/np10.png?raw=1\">"
      ]
    },
    {
      "cell_type": "code",
      "execution_count": null,
      "metadata": {
        "id": "-S7S7vKOhQk9"
      },
      "outputs": [],
      "source": [
        "np.transpose(x[:3,:3])"
      ]
    },
    {
      "cell_type": "markdown",
      "metadata": {
        "id": "xi5r_kU0hQk-"
      },
      "source": [
        "## Repeat the first column 4 times\n",
        "\n",
        "\n",
        "<img src=\"https://github.com/MrEwdew/DataEng25/blob/main/week_1/IMG/np11.png?raw=1\">"
      ]
    },
    {
      "cell_type": "code",
      "execution_count": null,
      "metadata": {
        "id": "AWaLn38HhQk-"
      },
      "outputs": [],
      "source": [
        "np.repeat(x[::,0],4).reshape(5,4)"
      ]
    },
    {
      "cell_type": "markdown",
      "metadata": {
        "id": "EQTegkvChQk-"
      },
      "source": [
        "## Reshape 1D array to 2D array\n",
        "\n",
        "<img src=\"https://github.com/MrEwdew/DataEng25/blob/main/week_1/IMG/np12.png?raw=1\">"
      ]
    },
    {
      "cell_type": "code",
      "execution_count": null,
      "metadata": {
        "id": "rOueSgCLhQk-"
      },
      "outputs": [],
      "source": [
        "x = np.asarray(range(1,13), np.int64)\n",
        "print(x)\n",
        "np.reshape(x,(4,3))"
      ]
    },
    {
      "cell_type": "markdown",
      "metadata": {
        "id": "lY8YzdyIhQk_"
      },
      "source": [
        "## Collapse an axis from a 3D array\n",
        "\n",
        "<img src=\"https://github.com/MrEwdew/DataEng25/blob/main/week_1/IMG/np13.png?raw=1\">"
      ]
    },
    {
      "cell_type": "code",
      "execution_count": null,
      "metadata": {
        "id": "eGe4bASihQk_"
      },
      "outputs": [],
      "source": [
        "x = np.asarray(range(1,13), np.int8).reshape(3,2,2)\n",
        "print(x)\n",
        "np.reshape(x,(3,4))\n"
      ]
    },
    {
      "cell_type": "code",
      "execution_count": null,
      "metadata": {
        "id": "HbuZsbyHhQlA"
      },
      "outputs": [],
      "source": []
    }
  ],
  "metadata": {
    "kernelspec": {
      "display_name": "Python 3",
      "language": "python",
      "name": "python3"
    },
    "language_info": {
      "codemirror_mode": {
        "name": "ipython",
        "version": 3
      },
      "file_extension": ".py",
      "mimetype": "text/x-python",
      "name": "python",
      "nbconvert_exporter": "python",
      "pygments_lexer": "ipython3",
      "version": "3.7.6"
    },
    "colab": {
      "provenance": []
    }
  },
  "nbformat": 4,
  "nbformat_minor": 0
}